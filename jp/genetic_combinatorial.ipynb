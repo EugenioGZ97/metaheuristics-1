{
 "cells": [
  {
   "cell_type": "markdown",
   "metadata": {},
   "source": [
    "# Quadratic assignment using genetic algorithms"
   ]
  },
  {
   "cell_type": "code",
   "execution_count": 153,
   "metadata": {},
   "outputs": [],
   "source": [
    "import random\n",
    "from matplotlib import pyplot as plt\n",
    "from pprint import pprint\n",
    "import numpy as np\n",
    "import pandas as pd\n",
    "\n",
    "class Genetic_solver:\n",
    "    def __init__(self):\n",
    "        # genetic parameters and data\n",
    "        self.best_for_gen_x = []\n",
    "        self.population = []\n",
    "        self.generations = []\n",
    "        self.M = 20 # Population size\n",
    "        self.N = 15 # Generations count\n",
    "        self.p_c = 1.0\n",
    "        self.p_m = 0.01\n",
    "        self.k = 3\n",
    "        self.l = 20\n",
    "        # solution parameters\n",
    "        self.a = -10\n",
    "        self.b = 10\n",
    "        self.inputs = 1\n",
    "        self.objective = lambda x: x**2\n",
    "        self.comb_obj = None\n",
    "        self.comb_sol = []\n",
    "    def set_objective(self, obj_func, inputs):\n",
    "        self.objective = obj_func\n",
    "        self.inputs = inputs\n",
    "    def set_combinatorial_objective(self, obj_func):\n",
    "        self.objective = obj_func\n",
    "    def set_combinatorial_solution(self, sol):\n",
    "        self.comb_sol = sol\n",
    "    def set_search_space(self, a, b):\n",
    "        self.a = a\n",
    "        self.b = b\n",
    "    def set_crossover_probability(self, p_c):\n",
    "        self.p_c = p_c\n",
    "    def set_mutation_probability(self, p_m):\n",
    "        self.p_m = p_m\n",
    "    def set_population_size(self, M):\n",
    "        self.M = M\n",
    "    def set_generations_count(self, N):\n",
    "        self.N = N\n",
    "    def set_tournament_size(self, k):\n",
    "        self.k = k\n",
    "    def set_chromosome_length(self, l):\n",
    "        self.l = l\n",
    "    # Sometimes we have more than one input to our objective function,\n",
    "    # here we split the chromosome into the corresponding solutions:\n",
    "    def split_chromosome(self, chromosome):\n",
    "        solutions = ()\n",
    "        step = self.l // self.inputs\n",
    "        return tuple(chromosome[index:(index+step)]\n",
    "                for index in range(0, self.l, step)\n",
    "               )\n",
    "    # gets precision value for computing the decoding of the solution\n",
    "    def get_precision(self, solution):\n",
    "        return (self.b-self.a)/(2**len(solution) - 1)\n",
    "    # encoding and decoding solutions:\n",
    "    def decode_genes(self, solution):\n",
    "        precision = self.get_precision(solution)\n",
    "        return sum([self.b*2**i \n",
    "                        for i, self.b in enumerate(reversed(solution))\n",
    "            ]) * precision + self.a\n",
    "    def gen_random_solution(self):\n",
    "        return [1 if random.random() >= 0.5 else 0\n",
    "                for _ in range(self.l)]\n",
    "    def gen_random_combination(self):\n",
    "        rand_sol = list(self.comb_sol)\n",
    "        np.random.shuffle(rand_sol)\n",
    "        return rand_sol\n",
    "    # evaluate objective based on a solution's chromosome and inputs specs\n",
    "    def evaluate_objective(self, chromosome):\n",
    "        chroms = self.split_chromosome(chromosome)\n",
    "        values = [self.decode_genes(chrom) for chrom in chroms]\n",
    "        return self.objective(*values)\n",
    "    def evaluate_combinatorial(self, chromosome):\n",
    "        return self.objective(chromosome)\n",
    "    # crea poblacion inicial\n",
    "    def create_random_population(self):\n",
    "        return [gen_random_solution(self.l) for _ in range(self.N)]\n",
    "    # crossover two solutions randomly\n",
    "    def crossover_random(self, p_a, p_b):\n",
    "        indexes = {i for i in range(self.l)}\n",
    "        # select which genes will come from which parent\n",
    "        p_a_genes = sorted(list(random.sample(indexes, self.l//2)))\n",
    "        p_b_genes = sorted(list(indexes - set(p_a_genes)))\n",
    "        child = []\n",
    "        for i in indexes:\n",
    "            child.append(p_a[i] if i in p_a_genes else p_b[i])\n",
    "        return child\n",
    "    # select two points and cross parents info at those points\n",
    "    # p_c means probability of crossover\n",
    "    def crossover_two_points(self, p_a, p_b):\n",
    "        if self.p_c >= random.random():\n",
    "            indexes = {i for i in range(self.l)}\n",
    "            # select which genes will come from which parent\n",
    "            two_points = sorted(random.sample(indexes, 2))\n",
    "            # print(f'two points: {two_points}')\n",
    "            # extract segments from parent a\n",
    "            first_seg_a = p_a[0:two_points[0]]\n",
    "            mid_seg_a = p_a[two_points[0]:two_points[1]]\n",
    "            last_seg_a = p_a[two_points[1]:]\n",
    "            # extract segments from parent b\n",
    "            first_seg_b = p_b[0:two_points[0]]\n",
    "            mid_seg_b = p_b[two_points[0]:two_points[1]]\n",
    "            last_seg_b = p_b[two_points[1]:]\n",
    "            # create child # 1\n",
    "            child = first_seg_a + mid_seg_b + last_seg_a\n",
    "            child_2 = first_seg_b + mid_seg_a + last_seg_b\n",
    "            return child, child_2\n",
    "        else:\n",
    "            return p_a, p_b # no crossover, same childs as parents\n",
    "    def crossover_combinatorial(self, a, b):\n",
    "        ordered = sorted(a)\n",
    "        print(f'ordered solution = {ordered}')\n",
    "        print(f'father a = {a}')\n",
    "        print(f'father b = {b}')\n",
    "        # puntos de corte\n",
    "        indices = list(range(len(a)))\n",
    "        i = random.choice(indices)\n",
    "        indices.pop(i)\n",
    "        j = random.choice(indices)\n",
    "        if i > j:\n",
    "            j, i = i, j # i < j siempre\n",
    "        print(f'i = {i}')\n",
    "        print(f'j = {j}')\n",
    "        a_mid = a[i:j]\n",
    "        b_mid = b[i:j]\n",
    "        print(f'middle genome A: {a_mid}')\n",
    "        print(f'middle genome B: {b_mid}')\n",
    "        ch1 = []\n",
    "        ch2 = []\n",
    "        k = 0\n",
    "        while(len(ch1) < i):\n",
    "            if(ordered[k] not in b_mid):\n",
    "                ch1.append(ordered[k])\n",
    "            k+=1\n",
    "        k = 0\n",
    "        while(len(ch2) < i):\n",
    "            if(ordered[k] not in a_mid):\n",
    "                ch2.append(ordered[k])\n",
    "            k+=1\n",
    "        ch1.extend(b_mid)\n",
    "        ch1.extend(sorted(list(set(ordered) - set(ch1))))\n",
    "        ch2.extend(a_mid)\n",
    "        ch2.extend(sorted(list(set(ordered) - set(ch2))))\n",
    "        return ch1, ch2\n",
    "    # abnormal children\n",
    "    def mutate_child(self, child):\n",
    "        return [gen if random.random() > self.p_m else (1 - gen)\n",
    "                    for gen in child]\n",
    "    # select an individual from the population,\n",
    "    # picking the best of k individuals from a tournament\n",
    "    def selection_tournament(self, current_population):\n",
    "        # Father tournament\n",
    "        contestants = random.sample(list(enumerate(current_population)), self.k)\n",
    "        i, father = min(contestants, \n",
    "                     key= lambda contestant: self.evaluate_objective(contestant[1]))\n",
    "        return i, father\n",
    "    # para mostrar los valores objetivo (y) vs los # de generacion (x) en una grafica chida\n",
    "    def display_generations(self):\n",
    "        # crea lista de individuos, asignandoles su # de generacion\n",
    "        genealogy = [\n",
    "            (i, self.evaluate_objective(specimen))\n",
    "            for i, gen in enumerate(self.generations)\n",
    "                for specimen in gen]\n",
    "        x, y = zip(*genealogy)\n",
    "        plt.scatter(x, y)\n",
    "        plt.show()\n",
    "    # run algorithm\n",
    "    def solve_combinatorial(self):\n",
    "        # Create initial population\n",
    "        self.population = [self.gen_random_combination() for _ in range(self.M)]\n",
    "        return\n",
    "        # track del mejor por generacion\n",
    "        self.best_for_gen_x.append(min(self.population, \n",
    "                                       key=lambda chrom: \n",
    "                                           self.evaluate_combinatorial(chrom)))\n",
    "        print(f'best for first generation is: {self.best_for_gen_x[-1]}')\n",
    "        print(f'value = {self.evaluate_objective(self.best_for_gen_x[-1])}')\n",
    "        # itera algoritmo por cada una de las generaciones\n",
    "        current_population = self.population\n",
    "        self.generations = []\n",
    "        for n in range(self.N):\n",
    "            print(f'Generation #{n+1}:')\n",
    "            # evalúa a esta generacion\n",
    "            self.generations.append(current_population)\n",
    "            # crea siguiente generacion\n",
    "            children = []\n",
    "            for m in range(self.M//2):\n",
    "                i, fath = self.selection_tournament(current_population)\n",
    "                current_population.pop(i)\n",
    "                j, moth = self.selection_tournament(current_population)\n",
    "                current_population.insert(i, fath)\n",
    "                ch_1, ch_2 = self.crossover_combinatorial(fath, moth)\n",
    "                # ch_1 = self.mutate_child(ch_1) # TODO: support mutations in combinatorial\n",
    "                # ch_2 = self.mutate_child(ch_2)\n",
    "                children.extend([ch_1, ch_2])\n",
    "                # agrega el mejor hijo a la lista de mejores:\n",
    "                best_child = min(children, key=lambda chrom: self.evaluate_objective(chrom))\n",
    "                self.best_for_gen_x.append(best_child)\n",
    "            current_population = children # avanza de generacion y repite\n",
    "        print(f'best for last generation is: {self.best_for_gen_x[-1]}')\n",
    "        print(f'value = {self.evaluate_objective(self.best_for_gen_x[-1])}')\n",
    "        solution_chroms = self.split_chromosome(self.best_for_gen_x[-1])\n",
    "        solution_values = [self.decode_genes(chrom) for chrom in solution_chroms]\n",
    "        print(f'solution values: {solution_values}')\n",
    "    def solve(self):\n",
    "        # Create initial population\n",
    "        self.population = [self.gen_random_solution() for _ in range(self.M)]\n",
    "        # track del mejor por generacion\n",
    "        self.best_for_gen_x.append(min(self.population, \n",
    "                                       key=lambda chrom: \n",
    "                                           self.evaluate_objective(chrom)))\n",
    "        print(f'best for first generation is: {self.best_for_gen_x[-1]}')\n",
    "        print(f'value = {self.evaluate_objective(self.best_for_gen_x[-1])}')\n",
    "        # itera algoritmo por cada una de las generaciones\n",
    "        current_population = self.population\n",
    "        self.generations = []\n",
    "        for n in range(self.N):\n",
    "            print(f'Generation #{n+1}:')\n",
    "            # evalúa a esta generacion\n",
    "            self.generations.append(current_population)\n",
    "            # crea siguiente generacion\n",
    "            children = []\n",
    "            for m in range(self.M//2):\n",
    "                i, fath = self.selection_tournament(current_population)\n",
    "                current_population.pop(i)\n",
    "                j, moth = self.selection_tournament(current_population)\n",
    "                current_population.insert(i, fath)\n",
    "                ch_1, ch_2 = self.crossover_two_points(fath, moth)\n",
    "                ch_1 = self.mutate_child(ch_1)\n",
    "                ch_2 = self.mutate_child(ch_2)\n",
    "                children.extend([ch_1, ch_2])\n",
    "                # agrega el mejor hijo a la lista de mejores:\n",
    "                best_child = min(children, key=lambda chrom: self.evaluate_objective(chrom))\n",
    "                self.best_for_gen_x.append(best_child)\n",
    "            current_population = children # avanza de generacion y repite\n",
    "        print(f'best for last generation is: {self.best_for_gen_x[-1]}')\n",
    "        print(f'value = {self.evaluate_objective(self.best_for_gen_x[-1])}')\n",
    "        solution_chroms = self.split_chromosome(self.best_for_gen_x[-1])\n",
    "        solution_values = [self.decode_genes(chrom) for chrom in solution_chroms]\n",
    "        print(f'solution values: {solution_values}')"
   ]
  },
  {
   "cell_type": "code",
   "execution_count": 154,
   "metadata": {},
   "outputs": [],
   "source": [
    "def calc_obj_fun(sol):\n",
    "    dis_df = pd.DataFrame([\n",
    "        [0,1,2,3,1,2,3,4],\n",
    "        [1,0,1,2,2,1,2,3],\n",
    "        [2,1,0,1,3,2,1,2],\n",
    "        [3,2,1,0,4,3,2,1],\n",
    "        [1,2,3,4,0,1,2,3],\n",
    "        [2,1,2,3,1,0,1,2],\n",
    "        [3,2,1,2,2,1,0,1],\n",
    "        [4,3,2,1,3,2,1,0]],\n",
    "        columns=['A','B','C','D','E','F','G','H'],\n",
    "        index=['A','B','C','D','E','F','G','H'],\n",
    "    )\n",
    "    flow_df = pd.DataFrame([\n",
    "        [0,5,2,4,1,0,0,6],\n",
    "        [5,0,3,0,2,2,2,0],\n",
    "        [2,3,0,0,0,0,0,5],\n",
    "        [4,0,0,0,5,2,2,10],\n",
    "        [1,2,0,5,0,10,0,0],\n",
    "        [0,2,0,2,10,0,5,1],\n",
    "        [0,2,0,2,0,5,0,10],\n",
    "        [6,0,5,10,0,1,10,0]],\n",
    "        columns=['A','B','C','D','E','F','G','H'],\n",
    "        index=['A','B','C','D','E','F','G','H'],\n",
    "    )\n",
    "    new_dis_df = dis_df.reindex(columns=sol, index=sol)\n",
    "    # print('flujo')\n",
    "    # print(flow_df)\n",
    "    # print('dis')\n",
    "    # print(new_dis_df)\n",
    "    new_dis_arr = np.array(new_dis_df)\n",
    "    obj_fun_df = pd.DataFrame(new_dis_arr*flow_df)\n",
    "    obj_fun_arr = np.array(obj_fun_df)\n",
    "    return sum(sum(obj_fun_arr))"
   ]
  },
  {
   "cell_type": "code",
   "execution_count": 155,
   "metadata": {
    "scrolled": true
   },
   "outputs": [
    {
     "name": "stdout",
     "output_type": "stream",
     "text": [
      "266\n"
     ]
    },
    {
     "data": {
      "text/plain": [
       "254"
      ]
     },
     "execution_count": 155,
     "metadata": {},
     "output_type": "execute_result"
    }
   ],
   "source": [
    "print(calc_obj_fun(['A','B','D','C','E','F','G','H']))\n",
    "calc_obj_fun(['B','A','D','C','E','F','G','H'])"
   ]
  },
  {
   "cell_type": "code",
   "execution_count": 156,
   "metadata": {},
   "outputs": [],
   "source": [
    "#OBJECTIVE FUNCTIONS\n",
    "def himmelblau(x, y):\n",
    "    return ((x**2)+y-11)**2+(x+(y**2)-7)**2\n",
    "def obj_fun_3(x):\n",
    "    return (x/10)**5-5*(x/10)**4+5*(x/10)**3+5*(x/10)**2-6*(x/10)-1\n",
    "\n",
    "\n",
    "solver = Genetic_solver()\n",
    "# genetic params\n",
    "solver.set_crossover_probability(0.95)\n",
    "solver.set_mutation_probability(0.01)\n",
    "solver.set_population_size(20)\n",
    "solver.set_generations_count(40)\n",
    "solver.set_tournament_size(3)\n",
    "# solver.set_chromosome_length(60) # Not used in combinatorial problem\n",
    "# solution params\n",
    "solver.set_combinatorial_objective(calc_obj_fun)\n",
    "solver.set_combinatorial_solution(['A','B','D','C','E','F','G','H']) # receives initial solution as input\n",
    "# solve the fucker\n",
    "solver.solve_combinatorial()\n",
    "# solver.display_generations()"
   ]
  },
  {
   "cell_type": "code",
   "execution_count": 157,
   "metadata": {},
   "outputs": [
    {
     "data": {
      "text/plain": [
       "[['B', 'G', 'F', 'D', 'A', 'C', 'H', 'E'],\n",
       " ['C', 'D', 'E', 'G', 'F', 'H', 'B', 'A'],\n",
       " ['H', 'F', 'G', 'C', 'B', 'D', 'A', 'E'],\n",
       " ['H', 'E', 'G', 'B', 'D', 'C', 'A', 'F'],\n",
       " ['A', 'G', 'B', 'H', 'F', 'E', 'D', 'C'],\n",
       " ['F', 'D', 'A', 'B', 'C', 'H', 'E', 'G'],\n",
       " ['B', 'E', 'A', 'F', 'C', 'H', 'G', 'D'],\n",
       " ['B', 'C', 'A', 'G', 'H', 'D', 'E', 'F'],\n",
       " ['H', 'B', 'A', 'F', 'G', 'D', 'E', 'C'],\n",
       " ['H', 'F', 'C', 'B', 'E', 'G', 'D', 'A'],\n",
       " ['D', 'A', 'G', 'B', 'C', 'F', 'H', 'E'],\n",
       " ['F', 'G', 'H', 'B', 'E', 'A', 'D', 'C'],\n",
       " ['D', 'H', 'A', 'G', 'C', 'E', 'F', 'B'],\n",
       " ['E', 'D', 'B', 'H', 'C', 'A', 'F', 'G'],\n",
       " ['B', 'F', 'D', 'G', 'H', 'C', 'E', 'A'],\n",
       " ['D', 'H', 'C', 'F', 'E', 'B', 'G', 'A'],\n",
       " ['C', 'H', 'D', 'G', 'F', 'A', 'B', 'E'],\n",
       " ['C', 'F', 'D', 'H', 'B', 'A', 'E', 'G'],\n",
       " ['A', 'H', 'C', 'F', 'D', 'B', 'G', 'E'],\n",
       " ['A', 'F', 'H', 'B', 'C', 'G', 'E', 'D']]"
      ]
     },
     "execution_count": 157,
     "metadata": {},
     "output_type": "execute_result"
    }
   ],
   "source": [
    "solver.population"
   ]
  },
  {
   "cell_type": "code",
   "execution_count": 158,
   "metadata": {},
   "outputs": [],
   "source": [
    "    dis_df = pd.DataFrame([\n",
    "        [0,1,2,3,1,2,3,4],\n",
    "        [1,0,1,2,2,1,2,3],\n",
    "        [2,1,0,1,3,2,1,2],\n",
    "        [3,2,1,0,4,3,2,1],\n",
    "        [1,2,3,4,0,1,2,3],\n",
    "        [2,1,2,3,1,0,1,2],\n",
    "        [3,2,1,2,2,1,0,1],\n",
    "        [4,3,2,1,3,2,1,0]],\n",
    "        columns=['A','B','C','D','E','F','G','H'],\n",
    "        index=['A','B','C','D','E','F','G','H'],\n",
    "    )\n",
    "    flow_df = pd.DataFrame([\n",
    "        [0,5,2,4,1,0,0,6],\n",
    "        [5,0,3,0,2,2,2,0],\n",
    "        [2,3,0,0,0,0,0,5],\n",
    "        [4,0,0,0,5,2,2,10],\n",
    "        [1,2,0,5,0,10,0,0],\n",
    "        [0,2,0,2,10,0,5,1],\n",
    "        [0,2,0,2,0,5,0,10],\n",
    "        [6,0,5,10,0,1,10,0]],\n",
    "        columns=['A','B','C','D','E','F','G','H'],\n",
    "        index=['A','B','C','D','E','F','G','H'],\n",
    "    )"
   ]
  },
  {
   "cell_type": "code",
   "execution_count": 159,
   "metadata": {},
   "outputs": [
    {
     "data": {
      "text/html": [
       "<div>\n",
       "<style scoped>\n",
       "    .dataframe tbody tr th:only-of-type {\n",
       "        vertical-align: middle;\n",
       "    }\n",
       "\n",
       "    .dataframe tbody tr th {\n",
       "        vertical-align: top;\n",
       "    }\n",
       "\n",
       "    .dataframe thead th {\n",
       "        text-align: right;\n",
       "    }\n",
       "</style>\n",
       "<table border=\"1\" class=\"dataframe\">\n",
       "  <thead>\n",
       "    <tr style=\"text-align: right;\">\n",
       "      <th></th>\n",
       "      <th>A</th>\n",
       "      <th>B</th>\n",
       "      <th>C</th>\n",
       "      <th>D</th>\n",
       "      <th>E</th>\n",
       "      <th>F</th>\n",
       "      <th>G</th>\n",
       "      <th>H</th>\n",
       "    </tr>\n",
       "  </thead>\n",
       "  <tbody>\n",
       "    <tr>\n",
       "      <th>A</th>\n",
       "      <td>0</td>\n",
       "      <td>5</td>\n",
       "      <td>4</td>\n",
       "      <td>12</td>\n",
       "      <td>1</td>\n",
       "      <td>0</td>\n",
       "      <td>0</td>\n",
       "      <td>24</td>\n",
       "    </tr>\n",
       "    <tr>\n",
       "      <th>B</th>\n",
       "      <td>5</td>\n",
       "      <td>0</td>\n",
       "      <td>3</td>\n",
       "      <td>0</td>\n",
       "      <td>4</td>\n",
       "      <td>2</td>\n",
       "      <td>4</td>\n",
       "      <td>0</td>\n",
       "    </tr>\n",
       "    <tr>\n",
       "      <th>C</th>\n",
       "      <td>4</td>\n",
       "      <td>3</td>\n",
       "      <td>0</td>\n",
       "      <td>0</td>\n",
       "      <td>0</td>\n",
       "      <td>0</td>\n",
       "      <td>0</td>\n",
       "      <td>10</td>\n",
       "    </tr>\n",
       "    <tr>\n",
       "      <th>D</th>\n",
       "      <td>12</td>\n",
       "      <td>0</td>\n",
       "      <td>0</td>\n",
       "      <td>0</td>\n",
       "      <td>20</td>\n",
       "      <td>6</td>\n",
       "      <td>4</td>\n",
       "      <td>10</td>\n",
       "    </tr>\n",
       "    <tr>\n",
       "      <th>E</th>\n",
       "      <td>1</td>\n",
       "      <td>4</td>\n",
       "      <td>0</td>\n",
       "      <td>20</td>\n",
       "      <td>0</td>\n",
       "      <td>10</td>\n",
       "      <td>0</td>\n",
       "      <td>0</td>\n",
       "    </tr>\n",
       "    <tr>\n",
       "      <th>F</th>\n",
       "      <td>0</td>\n",
       "      <td>2</td>\n",
       "      <td>0</td>\n",
       "      <td>6</td>\n",
       "      <td>10</td>\n",
       "      <td>0</td>\n",
       "      <td>5</td>\n",
       "      <td>2</td>\n",
       "    </tr>\n",
       "    <tr>\n",
       "      <th>G</th>\n",
       "      <td>0</td>\n",
       "      <td>4</td>\n",
       "      <td>0</td>\n",
       "      <td>4</td>\n",
       "      <td>0</td>\n",
       "      <td>5</td>\n",
       "      <td>0</td>\n",
       "      <td>10</td>\n",
       "    </tr>\n",
       "    <tr>\n",
       "      <th>H</th>\n",
       "      <td>24</td>\n",
       "      <td>0</td>\n",
       "      <td>10</td>\n",
       "      <td>10</td>\n",
       "      <td>0</td>\n",
       "      <td>2</td>\n",
       "      <td>10</td>\n",
       "      <td>0</td>\n",
       "    </tr>\n",
       "  </tbody>\n",
       "</table>\n",
       "</div>"
      ],
      "text/plain": [
       "    A  B   C   D   E   F   G   H\n",
       "A   0  5   4  12   1   0   0  24\n",
       "B   5  0   3   0   4   2   4   0\n",
       "C   4  3   0   0   0   0   0  10\n",
       "D  12  0   0   0  20   6   4  10\n",
       "E   1  4   0  20   0  10   0   0\n",
       "F   0  2   0   6  10   0   5   2\n",
       "G   0  4   0   4   0   5   0  10\n",
       "H  24  0  10  10   0   2  10   0"
      ]
     },
     "execution_count": 159,
     "metadata": {},
     "output_type": "execute_result"
    }
   ],
   "source": [
    "dis_df * flow_df"
   ]
  },
  {
   "cell_type": "code",
   "execution_count": 160,
   "metadata": {},
   "outputs": [
    {
     "data": {
      "text/plain": [
       "array([[ 0,  5,  4, 12,  1,  0,  0, 24],\n",
       "       [ 5,  0,  3,  0,  4,  2,  4,  0],\n",
       "       [ 4,  3,  0,  0,  0,  0,  0, 10],\n",
       "       [12,  0,  0,  0, 20,  6,  4, 10],\n",
       "       [ 1,  4,  0, 20,  0, 10,  0,  0],\n",
       "       [ 0,  2,  0,  6, 10,  0,  5,  2],\n",
       "       [ 0,  4,  0,  4,  0,  5,  0, 10],\n",
       "       [24,  0, 10, 10,  0,  2, 10,  0]])"
      ]
     },
     "execution_count": 160,
     "metadata": {},
     "output_type": "execute_result"
    }
   ],
   "source": [
    "np.array(dis_df * flow_df)"
   ]
  },
  {
   "cell_type": "code",
   "execution_count": 161,
   "metadata": {
    "scrolled": true
   },
   "outputs": [
    {
     "data": {
      "text/plain": [
       "array([46, 18, 17, 52, 35, 25, 23, 56])"
      ]
     },
     "execution_count": 161,
     "metadata": {},
     "output_type": "execute_result"
    }
   ],
   "source": [
    "sum(np.array(dis_df * flow_df))"
   ]
  },
  {
   "cell_type": "code",
   "execution_count": 162,
   "metadata": {
    "scrolled": true
   },
   "outputs": [
    {
     "data": {
      "text/plain": [
       "272"
      ]
     },
     "execution_count": 162,
     "metadata": {},
     "output_type": "execute_result"
    }
   ],
   "source": [
    "sum(sum(np.array(dis_df * flow_df)))"
   ]
  },
  {
   "cell_type": "code",
   "execution_count": 163,
   "metadata": {},
   "outputs": [
    {
     "data": {
      "text/plain": [
       "array([11, 22])"
      ]
     },
     "execution_count": 163,
     "metadata": {},
     "output_type": "execute_result"
    }
   ],
   "source": [
    "sum(np.array([[1, 2],[10, 20]]))"
   ]
  },
  {
   "cell_type": "code",
   "execution_count": 164,
   "metadata": {},
   "outputs": [],
   "source": [
    "x0 = ['A','B','C','D','E','F','G','H']\n",
    "np.random.shuffle(x0)"
   ]
  },
  {
   "cell_type": "code",
   "execution_count": 165,
   "metadata": {},
   "outputs": [
    {
     "data": {
      "text/plain": [
       "['G', 'F', 'B', 'H', 'D', 'A', 'C', 'E']"
      ]
     },
     "execution_count": 165,
     "metadata": {},
     "output_type": "execute_result"
    }
   ],
   "source": [
    "x0"
   ]
  },
  {
   "cell_type": "code",
   "execution_count": 166,
   "metadata": {},
   "outputs": [
    {
     "data": {
      "text/plain": [
       "298"
      ]
     },
     "execution_count": 166,
     "metadata": {},
     "output_type": "execute_result"
    }
   ],
   "source": [
    "solver.evaluate_combinatorial(solver.population[4])"
   ]
  },
  {
   "cell_type": "code",
   "execution_count": 167,
   "metadata": {},
   "outputs": [
    {
     "data": {
      "text/plain": [
       "['B', 'G', 'F', 'D', 'A', 'C', 'H', 'E']"
      ]
     },
     "execution_count": 167,
     "metadata": {},
     "output_type": "execute_result"
    }
   ],
   "source": [
    "solver.population[0]"
   ]
  },
  {
   "cell_type": "code",
   "execution_count": 168,
   "metadata": {},
   "outputs": [
    {
     "data": {
      "text/plain": [
       "[1, 2, 3, 4, -10, -20, -30]"
      ]
     },
     "execution_count": 168,
     "metadata": {},
     "output_type": "execute_result"
    }
   ],
   "source": [
    "a = [-10, -20, -30, 1, 2, 3, 4]\n",
    "sorted(a, key=lambda x: x**2)"
   ]
  },
  {
   "cell_type": "code",
   "execution_count": 169,
   "metadata": {},
   "outputs": [
    {
     "data": {
      "text/plain": [
       "[(6, ['B', 'E', 'A', 'F', 'C', 'H', 'G', 'D']),\n",
       " (5, ['F', 'D', 'A', 'B', 'C', 'H', 'E', 'G']),\n",
       " (7, ['B', 'C', 'A', 'G', 'H', 'D', 'E', 'F'])]"
      ]
     },
     "execution_count": 169,
     "metadata": {},
     "output_type": "execute_result"
    }
   ],
   "source": [
    "random.sample(list(enumerate(solver.population)), solver.k)"
   ]
  },
  {
   "cell_type": "code",
   "execution_count": 170,
   "metadata": {},
   "outputs": [
    {
     "data": {
      "text/plain": [
       "[(0, ['B', 'G', 'F', 'D', 'A', 'C', 'H', 'E']),\n",
       " (1, ['C', 'D', 'E', 'G', 'F', 'H', 'B', 'A']),\n",
       " (2, ['H', 'F', 'G', 'C', 'B', 'D', 'A', 'E']),\n",
       " (3, ['H', 'E', 'G', 'B', 'D', 'C', 'A', 'F']),\n",
       " (4, ['A', 'G', 'B', 'H', 'F', 'E', 'D', 'C']),\n",
       " (5, ['F', 'D', 'A', 'B', 'C', 'H', 'E', 'G']),\n",
       " (6, ['B', 'E', 'A', 'F', 'C', 'H', 'G', 'D']),\n",
       " (7, ['B', 'C', 'A', 'G', 'H', 'D', 'E', 'F']),\n",
       " (8, ['H', 'B', 'A', 'F', 'G', 'D', 'E', 'C']),\n",
       " (9, ['H', 'F', 'C', 'B', 'E', 'G', 'D', 'A']),\n",
       " (10, ['D', 'A', 'G', 'B', 'C', 'F', 'H', 'E']),\n",
       " (11, ['F', 'G', 'H', 'B', 'E', 'A', 'D', 'C']),\n",
       " (12, ['D', 'H', 'A', 'G', 'C', 'E', 'F', 'B']),\n",
       " (13, ['E', 'D', 'B', 'H', 'C', 'A', 'F', 'G']),\n",
       " (14, ['B', 'F', 'D', 'G', 'H', 'C', 'E', 'A']),\n",
       " (15, ['D', 'H', 'C', 'F', 'E', 'B', 'G', 'A']),\n",
       " (16, ['C', 'H', 'D', 'G', 'F', 'A', 'B', 'E']),\n",
       " (17, ['C', 'F', 'D', 'H', 'B', 'A', 'E', 'G']),\n",
       " (18, ['A', 'H', 'C', 'F', 'D', 'B', 'G', 'E']),\n",
       " (19, ['A', 'F', 'H', 'B', 'C', 'G', 'E', 'D'])]"
      ]
     },
     "execution_count": 170,
     "metadata": {},
     "output_type": "execute_result"
    }
   ],
   "source": [
    "list(enumerate(solver.population))"
   ]
  },
  {
   "cell_type": "code",
   "execution_count": null,
   "metadata": {},
   "outputs": [],
   "source": []
  },
  {
   "cell_type": "code",
   "execution_count": 173,
   "metadata": {},
   "outputs": [
    {
     "name": "stdout",
     "output_type": "stream",
     "text": [
      "ordered solution = ['A', 'B', 'C', 'D', 'E', 'F', 'G', 'H']\n",
      "father a = ['B', 'G', 'F', 'D', 'A', 'C', 'H', 'E']\n",
      "father b = ['C', 'D', 'E', 'G', 'F', 'H', 'B', 'A']\n",
      "i = 2\n",
      "j = 7\n",
      "middle genome A: ['F', 'D', 'A', 'C', 'H']\n",
      "middle genome B: ['E', 'G', 'F', 'H', 'B']\n",
      "hijo 1 = ['A', 'C', 'E', 'G', 'F', 'H', 'B', 'D']\n",
      "hijo 2 = ['B', 'E', 'F', 'D', 'A', 'C', 'H', 'G']\n"
     ]
    }
   ],
   "source": [
    "# padres\n",
    "a = solver.population[0]\n",
    "b = solver.population[1]\n",
    "ch1, ch2 = solver.crossover_combinatorial(a, b)\n",
    "print(f'hijo 1 = {ch1}')\n",
    "print(f'hijo 2 = {ch2}')"
   ]
  },
  {
   "cell_type": "code",
   "execution_count": 109,
   "metadata": {},
   "outputs": [
    {
     "data": {
      "text/plain": [
       "['A', 'D', 'E', 'G', 'B', 'C', 'F', 'H']"
      ]
     },
     "execution_count": 109,
     "metadata": {},
     "output_type": "execute_result"
    }
   ],
   "source": [
    "ch1"
   ]
  },
  {
   "cell_type": "code",
   "execution_count": 103,
   "metadata": {},
   "outputs": [
    {
     "data": {
      "text/plain": [
       "['A', 'B', 'C', 'D', 'E', 'F', 'G', 'H']"
      ]
     },
     "execution_count": 103,
     "metadata": {},
     "output_type": "execute_result"
    }
   ],
   "source": [
    "ordered"
   ]
  },
  {
   "cell_type": "code",
   "execution_count": 107,
   "metadata": {},
   "outputs": [
    {
     "data": {
      "text/plain": [
       "['F', 'H']"
      ]
     },
     "execution_count": 107,
     "metadata": {},
     "output_type": "execute_result"
    }
   ],
   "source": []
  }
 ],
 "metadata": {
  "kernelspec": {
   "display_name": "Python 3",
   "language": "python",
   "name": "python3"
  },
  "language_info": {
   "codemirror_mode": {
    "name": "ipython",
    "version": 3
   },
   "file_extension": ".py",
   "mimetype": "text/x-python",
   "name": "python",
   "nbconvert_exporter": "python",
   "pygments_lexer": "ipython3",
   "version": "3.6.5"
  }
 },
 "nbformat": 4,
 "nbformat_minor": 2
}
