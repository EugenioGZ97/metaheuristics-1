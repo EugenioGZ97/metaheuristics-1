{
 "cells": [
  {
   "cell_type": "markdown",
   "metadata": {},
   "source": [
    "# Himelblau function\n",
    "\n",
    "$ z = (x^2 + y - 11)^{2} + (x + y^{2} - 7)^{2} $\n",
    "\n",
    "Limites en (x, y) > -6 y (x, y) < 6\n",
    "\n",
    "Min z = 0.000"
   ]
  },
  {
   "cell_type": "code",
   "execution_count": 2,
   "metadata": {},
   "outputs": [],
   "source": [
    "import numpy as np\n",
    "import matplotlib.pyplot as plt\n",
    "from numpy.random import rand as rand"
   ]
  },
  {
   "cell_type": "code",
   "execution_count": 50,
   "metadata": {},
   "outputs": [
    {
     "name": "stdout",
     "output_type": "stream",
     "text": [
      "Initial X is 1.999\n",
      "Initial Y is 1.750\n",
      "Initial Z is 31.367\n",
      "X is 3.000\n",
      "Y is 2.004\n",
      "Final OF is 0.000\n",
      "Best solution: z = (3.000,2.004) = 0.000\n",
      "Iterations = 500\n"
     ]
    },
    {
     "data": {
      "image/png": "[encoded data removed]",
      "text/plain": [
       "<Figure size 432x288 with 1 Axes>"
      ]
     },
     "metadata": {},
     "output_type": "display_data"
    }
   ],
   "source": [
    "x0 = 6 * rand() # solucion inicial con la que empezaremos\n",
    "y0 = 6 * rand()\n",
    "\n",
    "# parametros\n",
    "k = 0.1 # step operator (k * rand(0.0->1.0))\n",
    "T0 = 1000\n",
    "M = 50\n",
    "N = 10\n",
    "alpha = 0.85\n",
    "\n",
    "def obj_func(x, y):\n",
    "    return ((x**2)+y-11)**2+(x+(y**2)-7)**2\n",
    "\n",
    "z_int = obj_func(x0, y0)\n",
    "# best values so far:\n",
    "x_best = x0\n",
    "y_best = y0\n",
    "z_best = z_int\n",
    "print(f'Initial X is {x0:.3f}')\n",
    "print(f'Initial Y is {y0:.3f}')\n",
    "print(f'Initial Z is {z_int:.3f}')\n",
    "\n",
    "temp = []\n",
    "min_z = []\n",
    "\n",
    "for i in range(M):\n",
    "    for j in range(N):\n",
    "        xt = 0\n",
    "        yt = 0\n",
    "        xstep = k * rand() # step values\n",
    "        ystep = k * rand()\n",
    "        # toss coins to see if you move some random distance\n",
    "        x1 = xstep if (rand() >= 0.5) else -xstep\n",
    "        y1 = ystep if (rand() >= 0.5) else -ystep\n",
    "        # move to the next solution\n",
    "        xt = x0+x1\n",
    "        yt = y0+y1\n",
    "        of_act = obj_func(x0, y0)\n",
    "        of_new = obj_func(xt, yt)\n",
    "        # coin toss to eval if we move or not\n",
    "        form = 1/(np.exp((of_new-of_act)/T0))\n",
    "        if (of_new <= of_act):\n",
    "            # next step (we move)\n",
    "            x0 = xt\n",
    "            y0 = yt\n",
    "            # also, its a better solution so we store it as the best value\n",
    "            x_best = xt\n",
    "            y_best = yt\n",
    "            z_best = of_new\n",
    "        elif(rand() <= form):\n",
    "            # next step (we move)\n",
    "            x0 = xt\n",
    "            y0 = yt\n",
    "        else:\n",
    "            x0 = x0\n",
    "            y0 = y0\n",
    "            pass # we stan current solution\n",
    "    temp = np.append(temp, T0)\n",
    "    min_z = np.append(min_z, of_act)\n",
    "    T0 = alpha*T0\n",
    "\n",
    "print(f\"X is {x0:.3f}\")\n",
    "print(f\"Y is {y0:.3f}\")\n",
    "print(f\"Final OF is {of_act:.3f}\")\n",
    "print(f\"Best solution: z = ({x_best:.3f},{y_best:.3f}) = {z_best:.3f}\")\n",
    "print(f\"Iterations = {M * N}\")\n",
    "plt.plot(temp,min_z)\n",
    "plt.title(\"Z vs. Temp.\",fontsize=20, fontweight='bold')\n",
    "plt.xlabel(\"Temp.\",fontsize=18, fontweight='bold')\n",
    "plt.ylabel(\"Z\",fontsize=18, fontweight='bold')\n",
    "\n",
    "plt.xlim(max(temp),0)\n",
    "plt.xticks(np.arange(min(temp), max(temp),100),fontweight='bold')\n",
    "plt.yticks(fontweight='bold')\n",
    "plt.show()"
   ]
  },
  {
   "cell_type": "code",
   "execution_count": 12,
   "metadata": {},
   "outputs": [
    {
     "data": {
      "text/plain": [
       "0.8610486515360014"
      ]
     },
     "execution_count": 12,
     "metadata": {},
     "output_type": "execute_result"
    }
   ],
   "source": [
    "obj_func(2.84, 2.162)"
   ]
  },
  {
   "cell_type": "markdown",
   "metadata": {},
   "source": [
    "# Codigo original:"
   ]
  },
  {
   "cell_type": "code",
   "execution_count": 95,
   "metadata": {},
   "outputs": [
    {
     "name": "stdout",
     "output_type": "stream",
     "text": [
      "Initial X is 2.000\n",
      "Initial Y is 1.000\n",
      "Initial Z is 52.000\n",
      "X is 2.999\n",
      "Y is 2.003\n",
      "Final OF is 0.000\n"
     ]
    },
    {
     "name": "stderr",
     "output_type": "stream",
     "text": [
      "/home/baruc/.local/lib/python3.6/site-packages/ipykernel_launcher.py:54: RuntimeWarning: overflow encountered in exp\n",
      "/home/baruc/.local/lib/python3.6/site-packages/ipykernel_launcher.py:54: RuntimeWarning: divide by zero encountered in double_scalars\n"
     ]
    },
    {
     "data": {
      "text/plain": [
       "(array([-20.,   0.,  20.,  40.,  60.,  80., 100., 120.]),\n",
       " <a list of 8 Text yticklabel objects>)"
      ]
     },
     "execution_count": 95,
     "metadata": {},
     "output_type": "execute_result"
    },
    {
     "data": {
      "image/png": "[encoded data removed]",
      "text/plain": [
       "<Figure size 432x288 with 1 Axes>"
      ]
     },
     "metadata": {},
     "output_type": "display_data"
    }
   ],
   "source": [
    "import numpy as np\n",
    "import matplotlib.pyplot as plt\n",
    "\n",
    "\n",
    "\n",
    "x0 = 2 # Initial solution you'd like to start at\n",
    "y0 = 1\n",
    "\n",
    "k = 0.1\n",
    "T0 = 1000\n",
    "M = 300\n",
    "N = 15\n",
    "alpha = 0.85\n",
    "\n",
    "z_int = ((x0**2)+y0-11)**2+(x0+(y0**2)-7)**2\n",
    "\n",
    "print(\"Initial X is %.3f\" % x0)\n",
    "print(\"Initial Y is %.3f\" % y0)\n",
    "print(\"Initial Z is %.3f\" % z_int)\n",
    "\n",
    "\n",
    "temp = []\n",
    "min_z = []\n",
    "\n",
    "for i in range(M):\n",
    "    for j in range(N):\n",
    "        xt = 0\n",
    "        yt = 0\n",
    "        \n",
    "        ran_x_1 = np.random.rand()\n",
    "        ran_x_2 = np.random.rand()\n",
    "        ran_y_1 = np.random.rand()\n",
    "        ran_y_2 = np.random.rand()\n",
    "        \n",
    "        if ran_x_1 >= 0.5:\n",
    "            x1 = k*ran_x_2\n",
    "        else:\n",
    "            x1 = -k*ran_x_2\n",
    "        \n",
    "        if ran_y_1 >= 0.5:\n",
    "            y1 = k*ran_y_2\n",
    "        else:\n",
    "            y1 = -k*ran_y_2\n",
    "            \n",
    "        xt = x0+x1\n",
    "        yt = y0+y1\n",
    "        \n",
    "        of_new = ((xt**2)+yt-11)**2+(xt+(yt**2)-7)**2\n",
    "        \n",
    "        of_current = ((x0**2)+y0-11)**2+(x0+(y0**2)-7)**2\n",
    "        \n",
    "        \n",
    "        ran_1 = np.random.rand()\n",
    "        form = 1/(np.exp((of_new-of_current)/T0))\n",
    "        \n",
    "        if of_new <= of_current:\n",
    "            x0 = xt\n",
    "            y0 = yt\n",
    "        elif ran_1<=form:\n",
    "            x0 = xt\n",
    "            y0 = yt\n",
    "        else:\n",
    "            x0 = x0\n",
    "            y0 = y0\n",
    "        \n",
    "    temp = np.append(temp,T0)\n",
    "    min_z = np.append(min_z,of_current)\n",
    "    T0 = alpha*T0\n",
    "\n",
    "\n",
    "print(\"X is %.3f\" % x0)\n",
    "print(\"Y is %.3f\" % y0)\n",
    "print(\"Final OF is %.3f\" % of_current)\n",
    "\n",
    "# print(min_z)\n",
    "plt.plot(temp,min_z)\n",
    "plt.title(\"Z vs. Temp.\",fontsize=20, fontweight='bold')\n",
    "plt.xlabel(\"Temp.\",fontsize=18, fontweight='bold')\n",
    "plt.ylabel(\"Z\",fontsize=18, fontweight='bold')\n",
    "\n",
    "plt.xlim(1000,0)\n",
    "plt.xticks(np.arange(min(temp),max(temp),100),fontweight='bold')\n",
    "plt.yticks(fontweight='bold')\n"
   ]
  },
  {
   "cell_type": "code",
   "execution_count": null,
   "metadata": {},
   "outputs": [],
   "source": []
  }
 ],
 "metadata": {
  "kernelspec": {
   "display_name": "Python 3",
   "language": "python",
   "name": "python3"
  },
  "language_info": {
   "codemirror_mode": {
    "name": "ipython",
    "version": 3
   },
   "file_extension": ".py",
   "mimetype": "text/x-python",
   "name": "python",
   "nbconvert_exporter": "python",
   "pygments_lexer": "ipython3",
   "version": "3.6.5"
  }
 },
 "nbformat": 4,
 "nbformat_minor": 2
}
