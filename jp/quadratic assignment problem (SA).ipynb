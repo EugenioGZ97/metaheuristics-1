{
 "cells": [
  {
   "cell_type": "code",
   "execution_count": 231,
   "metadata": {},
   "outputs": [],
   "source": [
    "import numpy as np\n",
    "from matplotlib import pyplot as plt\n",
    "import pandas as pd"
   ]
  },
  {
   "cell_type": "code",
   "execution_count": 232,
   "metadata": {},
   "outputs": [],
   "source": [
    "dis_df = pd.DataFrame([\n",
    "    [0,1,2,3,1,2,3,4],\n",
    "    [1,0,1,2,2,1,2,3],\n",
    "    [2,1,0,1,3,2,1,2],\n",
    "    [3,2,1,0,4,3,2,1],\n",
    "    [1,2,3,4,0,1,2,3],\n",
    "    [2,1,2,3,1,0,1,2],\n",
    "    [3,2,1,2,2,1,0,1],\n",
    "    [4,3,2,1,3,2,1,0]],\n",
    "    columns=['A','B','C','D','E','F','G','H'],\n",
    "    index=['A','B','C','D','E','F','G','H'],\n",
    ")\n",
    "flow_df = pd.DataFrame([\n",
    "    [0,5,2,4,1,0,0,6],\n",
    "    [5,0,3,0,2,2,2,0],\n",
    "    [2,3,0,0,0,0,0,5],\n",
    "    [4,0,0,0,5,2,2,10],\n",
    "    [1,2,0,5,0,10,0,0],\n",
    "    [0,2,0,2,10,0,5,1],\n",
    "    [0,2,0,2,0,5,0,10],\n",
    "    [6,0,5,10,0,1,10,0]],\n",
    "    columns=['A','B','C','D','E','F','G','H'],\n",
    "    index=['A','B','C','D','E','F','G','H'],\n",
    ")"
   ]
  },
  {
   "cell_type": "code",
   "execution_count": 233,
   "metadata": {},
   "outputs": [],
   "source": [
    "# funcion de paso combinatoria\n",
    "def step(sol):\n",
    "    # genera indices a intercambiar\n",
    "    i = np.random.randint(0, len(sol))\n",
    "    j = np.random.randint(0, len(sol))\n",
    "    # se asegura de no cambiar por si mismo\n",
    "    while i == j:\n",
    "        j = np.random.randint(0, len(sol))\n",
    "    return i, j\n",
    "\n",
    "def move(sol, i, j):\n",
    "    # cambia valores\n",
    "    sol[i], sol[j] = sol[j], sol[i]\n",
    "    return sol\n",
    "\n",
    "def calc_obj_fun(dis_df, flow_df, sol):\n",
    "    new_dis_df = dis_df.reindex(columns=X0, index=X0)\n",
    "    new_dis_arr = np.array(new_dis_df)\n",
    "    obj_fun_df = pd.DataFrame(new_dis_arr*flow_df)\n",
    "    obj_fun_arr = np.array(obj_fun_df)\n",
    "    return sum(sum(obj_fun_arr))"
   ]
  },
  {
   "cell_type": "code",
   "execution_count": null,
   "metadata": {},
   "outputs": [],
   "source": []
  },
  {
   "cell_type": "code",
   "execution_count": 235,
   "metadata": {
    "scrolled": true
   },
   "outputs": [
    {
     "name": "stdout",
     "output_type": "stream",
     "text": [
      "objetivo original: 272\n",
      "\n",
      "Final solution: ['B', 'A', 'E', 'G', 'C', 'D', 'H', 'F']\n",
      "Minimized cost: 218\n"
     ]
    },
    {
     "data": {
      "text/plain": [
       "(1500, 0)"
      ]
     },
     "execution_count": 235,
     "metadata": {},
     "output_type": "execute_result"
    },
    {
     "data": {
      "image/png": "[encoded data removed]",
      "text/plain": [
       "<Figure size 432x288 with 1 Axes>"
      ]
     },
     "metadata": {},
     "output_type": "display_data"
    }
   ],
   "source": [
    "# parametros del algoritmo\n",
    "Ti = 1500\n",
    "T0 = Ti\n",
    "M = 40\n",
    "N = 20\n",
    "alpha = 0.7\n",
    "X0 = ['A','B','C','D','E','F','G','H']\n",
    "np.random.shuffle(X0) # iniciamos en una solucion aleatoria\n",
    "# valor objetivo original\n",
    "of_act = calc_obj_fun(dis_df, flow_df, X0)\n",
    "print(f'objetivo original: {sum_start}')\n",
    "\n",
    "Temp = []\n",
    "Min_cost = []\n",
    "for i in range(M):\n",
    "    for j in range(N):\n",
    "        # genera siguiente movimiento\n",
    "        next_step = step(X0)\n",
    "        # calcula valor objetivo\n",
    "        move(X0, *next_step) # mov temporal\n",
    "        of_new = calc_obj_fun(dis_df, flow_df, X0)\n",
    "        move(X0, *next_step) # regresa a step anterior\n",
    "        # flip a coin to se if we move:\n",
    "        will = 1/(np.exp(of_new-of_act)/T0)\n",
    "        if of_new <= of_act:\n",
    "            # movimiento chido, nos movemos\n",
    "            move(X0, *next_step)\n",
    "            of_act = of_new\n",
    "        elif np.random.rand() <= will:\n",
    "            # movimiento no tan chido, pero a ver que encontramos\n",
    "            move(X0, *next_step)\n",
    "            of_act = of_new\n",
    "        else:\n",
    "            pass # mov feo y no estamos dispuestos a explorar\n",
    "    Temp.append(T0)\n",
    "    Min_cost.append(of_new)\n",
    "    T0 = alpha*T0\n",
    "print()\n",
    "print(f'Final solution: {X0}')\n",
    "print(f'Minimized cost: {of_act}')\n",
    "\n",
    "plt.plot(Temp, Min_cost)\n",
    "plt.title('Cost vs Temp')\n",
    "plt.xlim(Ti, 0)"
   ]
  },
  {
   "cell_type": "code",
   "execution_count": null,
   "metadata": {},
   "outputs": [],
   "source": []
  }
 ],
 "metadata": {
  "kernelspec": {
   "display_name": "Python 3",
   "language": "python",
   "name": "python3"
  },
  "language_info": {
   "codemirror_mode": {
    "name": "ipython",
    "version": 3
   },
   "file_extension": ".py",
   "mimetype": "text/x-python",
   "name": "python",
   "nbconvert_exporter": "python",
   "pygments_lexer": "ipython3",
   "version": "3.6.5"
  }
 },
 "nbformat": 4,
 "nbformat_minor": 2
}
