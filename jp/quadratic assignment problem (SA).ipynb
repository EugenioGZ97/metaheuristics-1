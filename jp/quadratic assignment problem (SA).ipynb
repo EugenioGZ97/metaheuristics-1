{
 "cells": [
  {
   "cell_type": "code",
   "execution_count": 2,
   "metadata": {},
   "outputs": [],
   "source": [
    "import numpy as np\n",
    "from matplotlib import pyplot as plt\n",
    "import pandas as pd"
   ]
  },
  {
   "cell_type": "code",
   "execution_count": 3,
   "metadata": {},
   "outputs": [],
   "source": [
    "dis_df = pd.DataFrame([\n",
    "    [0,1,2,3,1,2,3,4],\n",
    "    [1,0,1,2,2,1,2,3],\n",
    "    [2,1,0,1,3,2,1,2],\n",
    "    [3,2,1,0,4,3,2,1],\n",
    "    [1,2,3,4,0,1,2,3],\n",
    "    [2,1,2,3,1,0,1,2],\n",
    "    [3,2,1,2,2,1,0,1],\n",
    "    [4,3,2,1,3,2,1,0]],\n",
    "    columns=['A','B','C','D','E','F','G','H'],\n",
    "    index=['A','B','C','D','E','F','G','H'],\n",
    ")\n",
    "flow_df = pd.DataFrame([\n",
    "    [0,5,2,4,1,0,0,6],\n",
    "    [5,0,3,0,2,2,2,0],\n",
    "    [2,3,0,0,0,0,0,5],\n",
    "    [4,0,0,0,5,2,2,10],\n",
    "    [1,2,0,5,0,10,0,0],\n",
    "    [0,2,0,2,10,0,5,1],\n",
    "    [0,2,0,2,0,5,0,10],\n",
    "    [6,0,5,10,0,1,10,0]],\n",
    "    columns=['A','B','C','D','E','F','G','H'],\n",
    "    index=['A','B','C','D','E','F','G','H'],\n",
    ")"
   ]
  },
  {
   "cell_type": "code",
   "execution_count": 9,
   "metadata": {},
   "outputs": [],
   "source": [
    "# funcion de paso combinatoria\n",
    "def step(sol):\n",
    "    # genera indices a intercambiar\n",
    "    i = np.random.randint(0, len(sol))\n",
    "    j = np.random.randint(0, len(sol))\n",
    "    # se asegura de no cambiar por si mismo\n",
    "    while i == j:\n",
    "        j = np.random.randint(0, len(sol))\n",
    "    return i, j\n",
    "\n",
    "def move(sol, i, j):\n",
    "    # cambia valores\n",
    "    sol[i], sol[j] = sol[j], sol[i]\n",
    "    return sol\n",
    "\n",
    "def calc_obj_fun(dis_df, flow_df, sol):\n",
    "    new_dis_df = dis_df.reindex(columns=sol, index=sol)\n",
    "    new_dis_arr = np.array(new_dis_df)\n",
    "    obj_fun_df = pd.DataFrame(new_dis_arr*flow_df)\n",
    "    obj_fun_arr = np.array(obj_fun_df)\n",
    "    return sum(sum(obj_fun_arr))"
   ]
  },
  {
   "cell_type": "code",
   "execution_count": null,
   "metadata": {},
   "outputs": [],
   "source": []
  },
  {
   "cell_type": "code",
   "execution_count": 120,
   "metadata": {
    "scrolled": true
   },
   "outputs": [
    {
     "name": "stdout",
     "output_type": "stream",
     "text": [
      "objetivo original: 366\n",
      "\n",
      "Final solution: ['B', 'A', 'E', 'C', 'D', 'H', 'G', 'F']\n",
      "Minimized cost: 214\n"
     ]
    },
    {
     "data": {
      "text/plain": [
       "(2500, 0)"
      ]
     },
     "execution_count": 120,
     "metadata": {},
     "output_type": "execute_result"
    },
    {
     "data": {
      "image/png": "[encoded data removed]",
      "text/plain": [
       "<Figure size 432x288 with 1 Axes>"
      ]
     },
     "metadata": {},
     "output_type": "display_data"
    }
   ],
   "source": [
    "# parametros del algoritmo\n",
    "Ti = 2500\n",
    "T0 = Ti\n",
    "M = 50\n",
    "N = 100\n",
    "alpha = 0.9\n",
    "X0 = ['A','B','C','D','E','F','G','H']\n",
    "np.random.shuffle(X0) # iniciamos en una solucion aleatoria\n",
    "# valor objetivo original\n",
    "of_act = calc_obj_fun(dis_df, flow_df, X0)\n",
    "print(f'objetivo original: {of_act}')\n",
    "explorations = []\n",
    "explore_count = 0\n",
    "Temp = []\n",
    "Min_cost = []\n",
    "for i in range(M):\n",
    "    for j in range(N):\n",
    "        # genera siguiente movimiento\n",
    "        next_step = step(X0)\n",
    "        # calcula valor objetivo\n",
    "        move(X0, *next_step) # mov temporal\n",
    "        of_new = calc_obj_fun(dis_df, flow_df, X0)\n",
    "        move(X0, *next_step) # regresa a step anterior\n",
    "        # flip a coin to se if we move:\n",
    "        will = 1/(np.exp(of_new-of_act)/T0)\n",
    "        toss = np.random.rand()\n",
    "        if of_new <= of_act:\n",
    "            # movimiento chido, nos movemos\n",
    "            move(X0, *next_step)\n",
    "            of_act = of_new\n",
    "        elif toss <= will:\n",
    "            # movimiento no tan chido, pero a ver que encontramos\n",
    "            move(X0, *next_step)\n",
    "            of_act = of_new\n",
    "            explore_count += 1\n",
    "            explorations.append(explore_count)\n",
    "            # print(f'SI EXPLORE (will={will}, rand={toss})')\n",
    "        else:\n",
    "            explorations.append(explore_count)\n",
    "            # print(f'NO EXPLORE (will={will}, rand={toss})') # mov feo y no estamos dispuestos a explorar\n",
    "    Temp.append(T0)\n",
    "    Min_cost.append(of_new)\n",
    "    T0 = alpha*T0\n",
    "print()\n",
    "print(f'Final solution: {X0}')\n",
    "print(f'Minimized cost: {of_act}')\n",
    "\n",
    "plt.plot(Temp, Min_cost)\n",
    "plt.title('Cost vs Temp')\n",
    "plt.xlim(Ti, 0)"
   ]
  },
  {
   "cell_type": "code",
   "execution_count": 119,
   "metadata": {},
   "outputs": [
    {
     "data": {
      "text/plain": [
       "(4910, 0)"
      ]
     },
     "execution_count": 119,
     "metadata": {},
     "output_type": "execute_result"
    },
    {
     "data": {
      "image/png": "[encoded data removed]",
      "text/plain": [
       "<Figure size 432x288 with 1 Axes>"
      ]
     },
     "metadata": {},
     "output_type": "display_data"
    }
   ],
   "source": [
    "plt.plot(range(len(explorations)), explorations)\n",
    "plt.title('exploraciones')\n",
    "plt.xlim(len(explorations), 0)"
   ]
  },
  {
   "cell_type": "code",
   "execution_count": 45,
   "metadata": {},
   "outputs": [
    {
     "data": {
      "text/plain": [
       "284"
      ]
     },
     "execution_count": 45,
     "metadata": {},
     "output_type": "execute_result"
    }
   ],
   "source": [
    "X0 = ['G','C','B','E','D','H','G','A']\n",
    "calc_obj_fun(dis_df, flow_df, X0)"
   ]
  },
  {
   "cell_type": "code",
   "execution_count": 59,
   "metadata": {},
   "outputs": [],
   "source": [
    "def temperatures(T0, alpha, M):\n",
    "    Ts = [T0]\n",
    "    for i in range(M):\n",
    "        T0 = alpha * T0\n",
    "        Ts.append(T0)\n",
    "    return Ts\n",
    "\n",
    "def willingness(of_new, of_act, Ts):\n",
    "    return [1/(np.exp(of_new-of_act)/T0) for T0 in Ts]"
   ]
  },
  {
   "cell_type": "code",
   "execution_count": 60,
   "metadata": {},
   "outputs": [
    {
     "name": "stdout",
     "output_type": "stream",
     "text": [
      "[1000,\n",
      " 850.0,\n",
      " 722.5,\n",
      " 614.125,\n",
      " 522.00625,\n",
      " 443.7053125,\n",
      " 377.149515625,\n",
      " 320.57708828125,\n",
      " 272.4905250390625,\n",
      " 231.61694628320313,\n",
      " 196.87440434072266,\n",
      " 167.34324368961427,\n",
      " 142.2417571361721,\n",
      " 120.9054935657463,\n",
      " 102.76966953088436,\n",
      " 87.3542191012517,\n",
      " 74.25108623606394,\n",
      " 63.11342330065435,\n",
      " 53.646409805556196,\n",
      " 45.599448334722766,\n",
      " 38.75953108451435,\n",
      " 32.945601421837196,\n",
      " 28.003761208561617,\n",
      " 23.803197027277374,\n",
      " 20.23271747318577,\n",
      " 17.197809852207904,\n",
      " 14.618138374376718,\n",
      " 12.42541761822021,\n",
      " 10.561604975487178,\n",
      " 8.9773642291641,\n",
      " 7.6307595947894855,\n",
      " 6.486145655571063,\n",
      " 5.513223807235403,\n",
      " 4.686240236150092,\n",
      " 3.983304200727578,\n",
      " 3.3858085706184413,\n",
      " 2.8779372850256753,\n",
      " 2.446246692271824,\n",
      " 2.0793096884310502,\n",
      " 1.7674132351663927,\n",
      " 1.5023012498914337,\n",
      " 1.2769560624077185,\n",
      " 1.0854126530465606,\n",
      " 0.9226007550895765,\n",
      " 0.78421064182614,\n",
      " 0.6665790455522189,\n",
      " 0.5665921887193861,\n",
      " 0.48160336041147817,\n",
      " 0.40936285634975644,\n",
      " 0.347958427897293,\n",
      " 0.29576466371269905]\n",
      "[5.184705528587072e+24,\n",
      " 4.4069996992990115e+24,\n",
      " 3.74594974440416e+24,\n",
      " 3.184057282743536e+24,\n",
      " 2.706448690332005e+24,\n",
      " 2.3004813867822046e+24,\n",
      " 1.9554091787648738e+24,\n",
      " 1.6620978019501426e+24,\n",
      " 1.4127831316576214e+24,\n",
      " 1.2008656619089784e+24,\n",
      " 1.0207358126226314e+24,\n",
      " 8.676254407292369e+23,\n",
      " 7.374816246198511e+23,\n",
      " 6.268593809268736e+23,\n",
      " 5.328304737878425e+23,\n",
      " 4.5290590271966616e+23,\n",
      " 3.8497001731171614e+23,\n",
      " 3.272245147149588e+23,\n",
      " 2.7814083750771497e+23,\n",
      " 2.3641971188155768e+23,\n",
      " 2.0095675509932404e+23,\n",
      " 1.708132418344254e+23,\n",
      " 1.451912555592616e+23,\n",
      " 1.2341256722537236e+23,\n",
      " 1.0490068214156653e+23,\n",
      " 8.916557982033154e+22,\n",
      " 7.57907428472818e+22,\n",
      " 6.442213142018954e+22,\n",
      " 5.47588117071611e+22,\n",
      " 4.6544989951086935e+22,\n",
      " 3.956324145842389e+22,\n",
      " 3.3628755239660306e+22,\n",
      " 2.858444195371126e+22,\n",
      " 2.429677566065457e+22,\n",
      " 2.0652259311556382e+22,\n",
      " 1.7554420414822927e+22,\n",
      " 1.4921257352599488e+22,\n",
      " 1.2683068749709564e+22,\n",
      " 1.078060843725313e+22,\n",
      " 9.16351717166516e+21,\n",
      " 7.788989595915385e+21,\n",
      " 6.620641156528078e+21,\n",
      " 5.627544983048865e+21,\n",
      " 4.783413235591535e+21,\n",
      " 4.0659012502528045e+21,\n",
      " 3.4560160627148833e+21,\n",
      " 2.9376136533076507e+21,\n",
      " 2.496971605311503e+21,\n",
      " 2.1224258645147776e+21,\n",
      " 1.8040619848375612e+21,\n",
      " 1.5334526871119268e+21]\n"
     ]
    }
   ],
   "source": [
    "from pprint import pprint\n",
    "Ts = temperatures(1000, 0.85, 50)\n",
    "wills = willingness(200, 250, Ts)\n",
    "pprint(Ts)\n",
    "pprint(wills)"
   ]
  },
  {
   "cell_type": "code",
   "execution_count": 99,
   "metadata": {},
   "outputs": [
    {
     "data": {
      "text/plain": [
       "4.607186634331292"
      ]
     },
     "execution_count": 99,
     "metadata": {},
     "output_type": "execute_result"
    }
   ],
   "source": [
    "# TODO: Funcion para evaluar Temperatura inicial correcta\n",
    "1/(np.exp(214-280)/0.0000000000000000000000000001)"
   ]
  },
  {
   "cell_type": "code",
   "execution_count": null,
   "metadata": {},
   "outputs": [],
   "source": []
  }
 ],
 "metadata": {
  "kernelspec": {
   "display_name": "Python 3",
   "language": "python",
   "name": "python3"
  },
  "language_info": {
   "codemirror_mode": {
    "name": "ipython",
    "version": 3
   },
   "file_extension": ".py",
   "mimetype": "text/x-python",
   "name": "python",
   "nbconvert_exporter": "python",
   "pygments_lexer": "ipython3",
   "version": "3.6.5"
  }
 },
 "nbformat": 4,
 "nbformat_minor": 2
}
