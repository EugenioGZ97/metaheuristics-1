{
 "cells": [
  {
   "cell_type": "markdown",
   "metadata": {},
   "source": [
    "# About metaheuristics and Operations research"
   ]
  },
  {
   "cell_type": "markdown",
   "metadata": {},
   "source": [
    "### Investigacion de operaciones\n",
    "Rama de la ingeniería que estudia como generar modelos matemáticos de problemas complejos,\n",
    "sobre ingeniería y administración, y como analizarlos para ganar insight de posibles maneras para resolverlos.\n",
    "\n",
    "Usualmente se trabaja sobre sistemas bajo condiciones que requieren la asignación de recursos limitados.\n",
    "\n",
    "Fundamental para resolver problemas de:\n",
    "* Asignación de tiempos (Scheduling)\n",
    "* Transporte\n",
    "* Manejo de inventarios\n",
    "* Almacenamiento (Warehousing)\n",
    "* Asignación de instalaciones\n",
    "* Distribución de energía\n",
    "\n",
    "Sus componentes principales son:\n",
    "* Función objetivo\n",
    "* Variables de decisión\n",
    "* Restricciones\n",
    "\n",
    "#### Tipos de soluciones y restricciones\n",
    "Soluciones:\n",
    "* Factible\n",
    "* No factible\n",
    "* Casi óptima\n",
    "* Óptima\n",
    "\n",
    "Restricciones:\n",
    "* Hard constraints: Restricciones que no pueden ser violadas\n",
    "* Soft constraints: Restricciones que pueden serlo, pero lo mejor es no hacerlo\n",
    "\n",
    "\n",
    "### Optimizacion\n",
    "Se basa en mejorar tanto como sea posible una función objetivo, esto es:\n",
    "Maximizar o minimizar una variable, según el problema.\n",
    "El problema suele radicar en *maximizar* ganancias o en *minimizar* costos basados en un set de restricciones, que suelen ser recursos disponibles para resolver dicho problema.\n",
    "\n",
    "\n",
    "\n",
    "### Tecnicas de búsqueda\n",
    "\n",
    "### Tipos de problemas\n",
    "#### Continuos\n",
    "\n",
    "#### Combinatorios\n",
    "\n"
   ]
  },
  {
   "cell_type": "markdown",
   "metadata": {},
   "source": [
    "## Simulated annealing\n",
    "#### Objetivo\n",
    "Neighborhood-based search\n",
    "#### Introduccion\n",
    "\n",
    "#### En problemas continuos\n",
    "\n",
    "#### En problemas combinatorios\n"
   ]
  },
  {
   "cell_type": "markdown",
   "metadata": {},
   "source": [
    "## Genetic algorithms\n",
    "#### Objetivo\n",
    "Population-based search\n",
    "Binary encoding (Trabaja con un resultado de la forma **[0,1,1,0,0,1,1...]**\n",
    "\n",
    "El encoding del resultado se conoce como **Genotipo**\n",
    "\n",
    "El decoding del resultado (Su significado) se conoce como **Fenotipo**\n",
    "\n",
    "Cada elemento de la solución, se conoce como **Alelo**, el cual contiene un **gen** (0 o 1)\n",
    "\n",
    "#### Introduccion\n",
    "Pertenece a la rama de los <b>Algoritmos evolutivos</b>.\n",
    "Inspirado por conceptos de la naturaleza y la evolución:\n",
    "* Selección natural\n",
    "* Reproducción\n",
    "* Supervivencia del mas apto\n",
    "\n",
    "más conceptos adoptados:\n",
    "* Padres e hijos (organismos)\n",
    "* Principales operadores:\n",
    " * Cruces genéticos\n",
    " * mutaciones\n",
    " * selección\n",
    "\n",
    "On reproduction:\n",
    "Puede realizarse mediante diferentes mecanismos\n",
    "* Roulette wheel\n",
    " * Se eligen los padres como si se girara una ruleta, teniendo mayor probabilidad los padres que tengan mejor valor objetivo.\n",
    "* Tournament selection\n",
    "\n",
    "#### En problemas continuos\n",
    "\n",
    "#### En problemas combinatorios\n"
   ]
  },
  {
   "cell_type": "markdown",
   "metadata": {},
   "source": [
    "## Tabu search\n",
    "#### Introduccion\n",
    "\n",
    "#### En problemas continuos\n",
    "\n",
    "#### En problemas combinatorios\n"
   ]
  },
  {
   "cell_type": "markdown",
   "metadata": {},
   "source": [
    "## Evolutionary strategies\n",
    "#### Introduccion\n",
    "\n",
    "#### En problemas continuos\n",
    "\n",
    "#### En problemas combinatorios\n"
   ]
  },
  {
   "cell_type": "markdown",
   "metadata": {},
   "source": [
    "## Constraint handling\n",
    "#### Técnica de penalización"
   ]
  },
  {
   "cell_type": "markdown",
   "metadata": {},
   "source": [
    "## Referencias:\n",
    "https://en.wikipedia.org/wiki/Test_functions_for_optimization"
   ]
  },
  {
   "cell_type": "code",
   "execution_count": null,
   "metadata": {},
   "outputs": [],
   "source": []
  }
 ],
 "metadata": {
  "kernelspec": {
   "display_name": "Python 3",
   "language": "python",
   "name": "python3"
  },
  "language_info": {
   "codemirror_mode": {
    "name": "ipython",
    "version": 3
   },
   "file_extension": ".py",
   "mimetype": "text/x-python",
   "name": "python",
   "nbconvert_exporter": "python",
   "pygments_lexer": "ipython3",
   "version": "3.6.5"
  }
 },
 "nbformat": 4,
 "nbformat_minor": 2
}
