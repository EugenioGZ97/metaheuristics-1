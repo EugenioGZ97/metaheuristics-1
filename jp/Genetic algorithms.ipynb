{
 "cells": [
  {
   "cell_type": "markdown",
   "metadata": {},
   "source": [
    "# Functionality implementation"
   ]
  },
  {
   "cell_type": "code",
   "execution_count": 562,
   "metadata": {},
   "outputs": [],
   "source": [
    "import random\n",
    "from matplotlib import pyplot as plt\n",
    "\n",
    "# Sometimes we have more than one input to our objective function,\n",
    "# here we split the chromosome into the corresponding solutions:\n",
    "def split_chromosome(chromosome, items):\n",
    "    solutions = ()\n",
    "    l = len(chromosome)\n",
    "    step = l // items\n",
    "    return tuple(chromosome[index:(index+step)]\n",
    "            for index in range(0, l, step)\n",
    "           )\n",
    "# encoding and decoding solutions:\n",
    "def decode_genes(a, b, solution):\n",
    "    precision = (b-a)/(2**len(solution) - 1)\n",
    "    return sum([b*2**i \n",
    "         for i, b in enumerate(reversed(solution))\n",
    "        ]) * precision + a, precision\n",
    "\n",
    "def gen_random_solution(l):\n",
    "    return [1 if random.random() >= 0.5 else 0\n",
    "            for _ in range(l)]\n",
    "\n",
    "def create_random_population(N, l):\n",
    "    return [gen_random_solution(l) for _ in range(N)]\n",
    "\n",
    "def crossover_random(p_a, p_b):\n",
    "    l = len(p_a) # we assume both parents have same chromosome length\n",
    "    indexes = {i for i in range(l)}\n",
    "    # select which genes will come from which parent\n",
    "    p_a_genes = random.sample(indexes, l//2)\n",
    "    p_b_genes = indexes - set(p_a_genes)\n",
    "    child = []\n",
    "    for i in indexes:\n",
    "        child.append(p_a[i] if i in p_a_genes else p_b[i])\n",
    "    print(f'parent a: {p_a}')\n",
    "    print(f'parent b: {p_b}')\n",
    "    print(f'parent a genes: {p_a_genes}')\n",
    "    print(f'parent b genes: {p_b_genes}')\n",
    "    print(f'The baby: {child}')\n",
    "    return child\n",
    "\n",
    "# p_c means probability of crossover\n",
    "def crossover_two_points(p_a, p_b, p_c = 1.0):\n",
    "    if p_c >= random.random():\n",
    "        l = len(p_a) # we assume both parents have same chromosome length\n",
    "        indexes = {i for i in range(l)}\n",
    "        # select which genes will come from which parent\n",
    "        two_points = sorted(random.sample(indexes, 2))\n",
    "        print(f'two points: {two_points}')\n",
    "        # extract segments from parent a\n",
    "        first_seg_a = p_a[0:two_points[0]]\n",
    "        mid_seg_a = p_a[two_points[0]:two_points[1]]\n",
    "        last_seg_a = p_a[two_points[1]:]\n",
    "        # extract segments from parent b\n",
    "        first_seg_b = p_b[0:two_points[0]]\n",
    "        mid_seg_b = p_b[two_points[0]:two_points[1]]\n",
    "        last_seg_b = p_b[two_points[1]:]\n",
    "        # create child # 1\n",
    "        child = first_seg_a + mid_seg_b + last_seg_a\n",
    "        child_2 = first_seg_b + mid_seg_a + last_seg_b\n",
    "        print(f'parent a: {p_a}')\n",
    "        print(f'parent b: {p_b}')\n",
    "        print(f'baby 1:   {child}')\n",
    "        print(f'baby 2:   {child_2}')\n",
    "        return child, child_2\n",
    "    else:\n",
    "        print('ugly people, no crossover performed')\n",
    "        return p_a, p_b # no crossover, same childs as parents\n",
    "\n",
    "def mutate_child(child, p_m):\n",
    "    return [\n",
    "        gen if random.random() > p_m else (1 - gen)\n",
    "            for gen in child\n",
    "    ]\n",
    "\n",
    "# select an individual from the population,\n",
    "# picking the best of k individuals from a tournament\n",
    "def selection(population, k, o_f, a, b):\n",
    "    # Father tournament\n",
    "    contestants = random.sample(population, k)\n",
    "    print('father contestants:')\n",
    "    print(contestants)\n",
    "    father = min(contestants, \n",
    "                 key= lambda contestant: \n",
    "                     o_f(decode_genes(a, b, contestant)[0]))\n",
    "    # Mother tournament\n",
    "    contestants = random.sample(population, k)\n",
    "    print('mother contestants:')\n",
    "    print(contestants)\n",
    "    mother = min(contestants, \n",
    "                 key= lambda contestant: \n",
    "                     o_f(decode_genes(a, b, contestant)[0]))\n",
    "    return father, mother\n",
    "\n",
    "# para mostrar los valores objetivo (y) vs los # de generacion (x) en una grafica chida\n",
    "def display_generations(a, b, generations_list):\n",
    "    N = len(generations_list[0]) # tamaño de cada poblacion\n",
    "    # crea lista de individuos, asignandoles su # de generacion\n",
    "    genealogy = [\n",
    "        (i, decode_genes(a, b, specimen)[0])\n",
    "        for i, gen in enumerate(generations)\n",
    "            for specimen in gen\n",
    "    ]\n",
    "    x, y = zip(*genealogy)\n",
    "    plt.scatter(x, y)\n",
    "    plt.show()"
   ]
  },
  {
   "cell_type": "markdown",
   "metadata": {},
   "source": [
    "# Functionality testing"
   ]
  },
  {
   "cell_type": "code",
   "execution_count": 427,
   "metadata": {},
   "outputs": [
    {
     "data": {
      "text/plain": [
       "(-16.0, 2.1333333333333333)"
      ]
     },
     "execution_count": 427,
     "metadata": {},
     "output_type": "execute_result"
    }
   ],
   "source": [
    "solution = [0, 0, 0, 0]\n",
    "a = -16\n",
    "b = 16\n",
    "decode_genes(a, b, solution)"
   ]
  },
  {
   "cell_type": "code",
   "execution_count": 428,
   "metadata": {},
   "outputs": [
    {
     "name": "stdout",
     "output_type": "stream",
     "text": [
      "genotipo = [1, 1, 1, 1, 1, 0, 0, 0, 0, 0, 1, 0, 0, 1, 0, 0, 0, 1, 1, 0]\n",
      "fenotipo = 5.631671554252199\n",
      "precision = 1.144410271082183e-05\n"
     ]
    }
   ],
   "source": [
    "s = gen_random_solution(20) # este es el genotipo\n",
    "print(f'genotipo = {s}')\n",
    "a = -6\n",
    "b = 6\n",
    "v, p = decode_genes(a, b, s) # este es el fenotipo\n",
    "print(f'fenotipo = {v}')\n",
    "print(f'precision = {p}')"
   ]
  },
  {
   "cell_type": "code",
   "execution_count": 429,
   "metadata": {},
   "outputs": [
    {
     "name": "stdout",
     "output_type": "stream",
     "text": [
      "parent a: [0, 0, 1, 1, 0, 1, 0, 0, 0, 0]\n",
      "parent b: [1, 1, 1, 0, 0, 1, 1, 1, 1, 0]\n",
      "parent a genes: [3, 2, 9, 1, 4]\n",
      "parent b genes: {0, 5, 6, 7, 8}\n",
      "The baby: [1, 0, 1, 1, 0, 1, 1, 1, 1, 0]\n",
      "No mutation has occured\n"
     ]
    }
   ],
   "source": [
    "p_a = gen_random_solution(10)\n",
    "p_b = gen_random_solution(10)\n",
    "child = crossover_random(p_a, p_b)\n",
    "monster = mutate_child(child, 0.01)\n",
    "if child == monster:\n",
    "    print('No mutation has occured')\n",
    "else:\n",
    "    print('A mutation has occured!')\n",
    "    print(f'new baby: {monster}')"
   ]
  },
  {
   "cell_type": "code",
   "execution_count": 430,
   "metadata": {},
   "outputs": [
    {
     "data": {
      "text/plain": [
       "'hi'"
      ]
     },
     "execution_count": 430,
     "metadata": {},
     "output_type": "execute_result"
    }
   ],
   "source": [
    "max(['a', 'b', 'hi'], key= lambda item: len(item))"
   ]
  },
  {
   "cell_type": "code",
   "execution_count": 431,
   "metadata": {},
   "outputs": [
    {
     "data": {
      "image/png": "[encoded data removed]",
      "text/plain": [
       "<Figure size 432x288 with 1 Axes>"
      ]
     },
     "metadata": {},
     "output_type": "display_data"
    }
   ],
   "source": [
    "# Testing population generation and final representation:\n",
    "# genetic algorithm parameters\n",
    "a = 0\n",
    "b = 10\n",
    "M = 20 # Number of generations\n",
    "N = 15 # Population size\n",
    "p_c = 0.5 # Probability of crossover (Top 10 anime...)\n",
    "p_m = 0.1 # Probability of mutation\n",
    "k = 3 # Number of tournament contestants\n",
    "l = 4 # Solution precision (Number of alleles per Chromosome)\n",
    "generations = [[gen_random_solution(l) \n",
    "                 for _ in range(M)] # specimens per generation\n",
    "                    for _ in range(N)] # generations]\n",
    "genealogy = [\n",
    "    (i, decode_genes(a, b, specimen)[0])\n",
    "    for i, gen in enumerate(generations)\n",
    "        for specimen in gen\n",
    "]\n",
    "display_generations(a, b, genealogy)"
   ]
  },
  {
   "attachments": {
    "obj_fun_3.png": {
     "image/png": "[encoded data removed]"
    }
   },
   "cell_type": "markdown",
   "metadata": {},
   "source": [
    "## Problema a resolver:\n",
    "![obj_fun_3.png](attachment:obj_fun_3.png)"
   ]
  },
  {
   "cell_type": "code",
   "execution_count": 432,
   "metadata": {},
   "outputs": [],
   "source": [
    "# THE REAL DEAL:\n",
    "# genetic algorithm parameters\n",
    "M = 20 # Number of generations\n",
    "N = 15 # Population size\n",
    "p_c = 0.5 # Probability of crossover (Top 10 anime...)\n",
    "p_m = 0.1 # Probability of mutation\n",
    "k = 3 # Number of tournament contestants\n",
    "l = 20 # Solution precision (Number of alleles per Chromosome)\n",
    "\n",
    "# problem specific parameters:\n",
    "a = -10 # minimum value for solution space\n",
    "b = 30  # maximum value for solution space\n",
    "#OBJECTIVE FUNCTION\n",
    "def himmelblau(x, y):\n",
    "    return ((x**2)+y-11)**2+(x+(y**2)-7)**2\n",
    "def obj_fun_3(x):\n",
    "    return (x/10)**5-5*(x/10)**4+5*(x/10)**3+5*(x/10)**2-6*(x/10)-1\n",
    "\n",
    "best_for_gen_x = []\n",
    "# Create initial population\n",
    "popu = [gen_random_solution(l) for _ in range(N)]"
   ]
  },
  {
   "cell_type": "code",
   "execution_count": 419,
   "metadata": {},
   "outputs": [
    {
     "data": {
      "text/plain": [
       "[[0, 1, 1, 0, 0, 0, 1, 1, 1, 1, 0, 0, 0, 0, 1, 1, 1, 0, 0, 0],\n",
       " [0, 1, 0, 0, 1, 0, 1, 0, 0, 0, 0, 0, 1, 1, 1, 0, 1, 0, 0, 1],\n",
       " [1, 0, 0, 0, 0, 0, 0, 1, 0, 1, 1, 1, 0, 0, 1, 1, 0, 0, 1, 1],\n",
       " [0, 1, 0, 0, 0, 1, 0, 0, 0, 0, 0, 1, 0, 0, 0, 0, 1, 0, 0, 0],\n",
       " [1, 1, 1, 1, 0, 0, 1, 0, 1, 1, 0, 0, 1, 1, 1, 0, 0, 1, 1, 0],\n",
       " [0, 0, 1, 1, 1, 0, 0, 0, 1, 0, 1, 0, 0, 1, 0, 1, 1, 0, 1, 0],\n",
       " [1, 0, 1, 0, 1, 0, 0, 0, 1, 1, 0, 0, 1, 0, 1, 0, 0, 1, 0, 0],\n",
       " [0, 1, 0, 1, 0, 0, 1, 0, 0, 1, 0, 1, 0, 0, 1, 0, 1, 0, 1, 1],\n",
       " [1, 1, 0, 1, 1, 0, 1, 1, 0, 0, 1, 1, 0, 0, 0, 1, 1, 1, 0, 1],\n",
       " [0, 1, 0, 0, 1, 0, 1, 0, 0, 1, 0, 0, 1, 1, 1, 1, 1, 0, 1, 1],\n",
       " [0, 1, 0, 0, 1, 0, 0, 1, 1, 0, 1, 1, 0, 0, 1, 0, 0, 0, 1, 0],\n",
       " [1, 0, 1, 0, 1, 1, 1, 1, 0, 1, 1, 0, 0, 0, 0, 0, 0, 0, 0, 0],\n",
       " [0, 0, 1, 0, 1, 1, 1, 1, 0, 0, 1, 1, 0, 0, 0, 1, 0, 1, 1, 1],\n",
       " [0, 1, 0, 0, 0, 1, 0, 0, 1, 1, 1, 0, 0, 0, 1, 1, 0, 1, 1, 1],\n",
       " [1, 1, 0, 1, 1, 1, 0, 0, 0, 0, 1, 0, 1, 0, 1, 0, 1, 0, 1, 1]]"
      ]
     },
     "execution_count": 419,
     "metadata": {},
     "output_type": "execute_result"
    }
   ],
   "source": [
    "popu"
   ]
  },
  {
   "cell_type": "code",
   "execution_count": 395,
   "metadata": {},
   "outputs": [
    {
     "name": "stdout",
     "output_type": "stream",
     "text": [
      "father contestants:\n",
      "[[0, 0, 0, 1, 1, 1, 1, 0], [0, 1, 1, 1, 0, 1, 1, 1], [1, 0, 1, 1, 1, 0, 1, 1]]\n",
      "mother contestants:\n",
      "[[1, 1, 1, 0, 0, 0, 1, 0], [0, 0, 0, 1, 0, 1, 1, 1], [0, 1, 0, 1, 0, 0, 0, 0]]\n",
      "parent a: [0, 1, 1, 1, 0, 1, 1, 1]\n",
      "parent b: [1, 1, 1, 0, 0, 0, 1, 0]\n",
      "parent a genes: [1, 4, 7, 2]\n",
      "parent b genes: {0, 3, 5, 6}\n",
      "The baby: [1, 1, 1, 0, 0, 0, 1, 1]\n"
     ]
    }
   ],
   "source": [
    "fath, moth = selection(popu, k, obj_fun_3, a, b)\n",
    "child = crossover_random(fath, moth)\n",
    "monster = mutate_child(child, 0.05)"
   ]
  },
  {
   "cell_type": "code",
   "execution_count": 396,
   "metadata": {},
   "outputs": [
    {
     "name": "stdout",
     "output_type": "stream",
     "text": [
      "solution precision: 0.1568627450980392\n",
      "father: 8.666666666666668 => -1.5215236213991759\n",
      "mother: 25.450980392156865 => -4.456855583037644\n",
      "child: 25.607843137254903 => -4.505381254110709\n",
      "monst: 25.607843137254903 => -4.505381254110709\n"
     ]
    }
   ],
   "source": [
    "father_feno, precision = decode_genes(a, b, fath)\n",
    "mother_feno = decode_genes(a, b, moth)[0]\n",
    "child_feno = decode_genes(a, b, child)[0]\n",
    "monster_feno = decode_genes(a, b, monster)[0]\n",
    "print(f'solution precision: {precision}')\n",
    "print(f'father: {father_feno} => {obj_fun_3(father_feno)}')\n",
    "print(f'mother: {mother_feno} => {obj_fun_3(mother_feno)}')\n",
    "print(f'child: {child_feno} => {obj_fun_3(child_feno)}')\n",
    "print(f'monst: {monster_feno} => {obj_fun_3(monster_feno)}')"
   ]
  },
  {
   "cell_type": "code",
   "execution_count": 399,
   "metadata": {},
   "outputs": [
    {
     "data": {
      "text/plain": [
       "[0, 10]"
      ]
     },
     "execution_count": 399,
     "metadata": {},
     "output_type": "execute_result"
    }
   ],
   "source": [
    "list(range(0, 20, 10))"
   ]
  },
  {
   "cell_type": "code",
   "execution_count": 408,
   "metadata": {},
   "outputs": [
    {
     "data": {
      "text/plain": [
       "'hola mundo'"
      ]
     },
     "execution_count": 408,
     "metadata": {},
     "output_type": "execute_result"
    }
   ],
   "source": [
    "'hola mundo 1234567890'[0:10]\n",
    "# 'hola mundo 1234567890'[10:20]"
   ]
  },
  {
   "cell_type": "code",
   "execution_count": 563,
   "metadata": {},
   "outputs": [
    {
     "data": {
      "text/plain": [
       "110.66915928288815"
      ]
     },
     "execution_count": 563,
     "metadata": {},
     "output_type": "execute_result"
    }
   ],
   "source": [
    "# probando nuestro código para el caso de 2 inputs (himmelblau function)\n",
    "x, y = split_chromosome(popu[6], 2)\n",
    "a = -6\n",
    "b = 6\n",
    "himmelblau(\n",
    "    decode_genes(a, b, x)[0],\n",
    "    decode_genes(a, b, y)[0]\n",
    ")"
   ]
  },
  {
   "cell_type": "code",
   "execution_count": 578,
   "metadata": {},
   "outputs": [
    {
     "name": "stdout",
     "output_type": "stream",
     "text": [
      "ugly people, no crossover performed\n"
     ]
    },
    {
     "data": {
      "text/plain": [
       "([0, 1, 1, 0, 1, 0, 0, 0, 0, 0, 1, 1, 1, 0, 0, 0, 1, 1, 0, 1],\n",
       " [1, 1, 1, 0, 0, 1, 1, 1, 1, 0, 0, 0, 1, 1, 0, 0, 1, 0, 0, 0])"
      ]
     },
     "execution_count": 578,
     "metadata": {},
     "output_type": "execute_result"
    }
   ],
   "source": [
    "crossover_two_points(popu[2], popu[4], 0.8)"
   ]
  },
  {
   "cell_type": "code",
   "execution_count": null,
   "metadata": {},
   "outputs": [],
   "source": []
  },
  {
   "cell_type": "code",
   "execution_count": null,
   "metadata": {},
   "outputs": [],
   "source": []
  }
 ],
 "metadata": {
  "kernelspec": {
   "display_name": "Python 3",
   "language": "python",
   "name": "python3"
  },
  "language_info": {
   "codemirror_mode": {
    "name": "ipython",
    "version": 3
   },
   "file_extension": ".py",
   "mimetype": "text/x-python",
   "name": "python",
   "nbconvert_exporter": "python",
   "pygments_lexer": "ipython3",
   "version": "3.6.5"
  }
 },
 "nbformat": 4,
 "nbformat_minor": 2
}
