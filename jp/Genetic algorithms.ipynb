{
 "cells": [
  {
   "cell_type": "markdown",
   "metadata": {},
   "source": [
    "# Functionality implementation"
   ]
  },
  {
   "cell_type": "code",
   "execution_count": 195,
   "metadata": {},
   "outputs": [],
   "source": [
    "import random\n",
    "from matplotlib import pyplot as plt\n",
    "from pprint import pprint\n",
    "# Sometimes we have more than one input to our objective function,\n",
    "# here we split the chromosome into the corresponding solutions:\n",
    "def split_chromosome(chromosome, items):\n",
    "    solutions = ()\n",
    "    l = len(chromosome)\n",
    "    step = l // items\n",
    "    return tuple(chromosome[index:(index+step)]\n",
    "            for index in range(0, l, step)\n",
    "           )\n",
    "\n",
    "def get_precision(a, b, solution):\n",
    "    return (b-a)/(2**len(solution) - 1)\n",
    "\n",
    "# encoding and decoding solutions:\n",
    "def decode_genes(a, b, solution):\n",
    "    precision = get_precision(a, b, solution)\n",
    "    return sum([b*2**i \n",
    "         for i, b in enumerate(reversed(solution))\n",
    "        ]) * precision + a\n",
    "\n",
    "# evaluate objective based on a solution's chromosome and inputs specs\n",
    "def evaluate_objective(obj_func, chromosome, inputs, a, b):\n",
    "    chroms = split_chromosome(chromosome, inputs)\n",
    "    values = [decode_genes(a, b, chrom) for chrom in chroms]\n",
    "    return obj_func(*values)\n",
    "\n",
    "def gen_random_solution(l):\n",
    "    return [1 if random.random() >= 0.5 else 0\n",
    "            for _ in range(l)]\n",
    "\n",
    "def create_random_population(N, l):\n",
    "    return [gen_random_solution(l) for _ in range(N)]\n",
    "\n",
    "def crossover_random(p_a, p_b):\n",
    "    l = len(p_a) # we assume both parents have same chromosome length\n",
    "    indexes = {i for i in range(l)}\n",
    "    # select which genes will come from which parent\n",
    "    p_a_genes = sorted(list(random.sample(indexes, l//2)))\n",
    "    p_b_genes = sorted(list(indexes - set(p_a_genes)))\n",
    "    child = []\n",
    "    for i in indexes:\n",
    "        child.append(p_a[i] if i in p_a_genes else p_b[i])\n",
    "    # print(f'parent a: {p_a}')\n",
    "    # print(f'parent b: {p_b}')\n",
    "    # print(f'parent a genes: {p_a_genes}')\n",
    "    # print(f'parent b genes: {p_b_genes}')\n",
    "    # print(f'The baby: {child}')\n",
    "    return child\n",
    "\n",
    "# p_c means probability of crossover\n",
    "def crossover_two_points(p_a, p_b, p_c = 1.0):\n",
    "    if p_c >= random.random():\n",
    "        l = len(p_a) # we assume both parents have same chromosome length\n",
    "        indexes = {i for i in range(l)}\n",
    "        # select which genes will come from which parent\n",
    "        two_points = sorted(random.sample(indexes, 2))\n",
    "        # print(f'two points: {two_points}')\n",
    "        # extract segments from parent a\n",
    "        first_seg_a = p_a[0:two_points[0]]\n",
    "        mid_seg_a = p_a[two_points[0]:two_points[1]]\n",
    "        last_seg_a = p_a[two_points[1]:]\n",
    "        # extract segments from parent b\n",
    "        first_seg_b = p_b[0:two_points[0]]\n",
    "        mid_seg_b = p_b[two_points[0]:two_points[1]]\n",
    "        last_seg_b = p_b[two_points[1]:]\n",
    "        # create child # 1\n",
    "        child = first_seg_a + mid_seg_b + last_seg_a\n",
    "        child_2 = first_seg_b + mid_seg_a + last_seg_b\n",
    "        # print(f'parent a: {p_a}')\n",
    "        # print(f'parent b: {p_b}')\n",
    "        # print(f'baby 1:   {child}')\n",
    "        # print(f'baby 2:   {child_2}')\n",
    "        return child, child_2\n",
    "    else:\n",
    "        #print('ugly people, no crossover performed')\n",
    "        return p_a, p_b # no crossover, same childs as parents\n",
    "\n",
    "def mutate_child(child, p_m):\n",
    "    return [\n",
    "        gen if random.random() > p_m else (1 - gen)\n",
    "            for gen in child\n",
    "    ]\n",
    "\n",
    "# select an individual from the population,\n",
    "# picking the best of k individuals from a tournament\n",
    "def selection(population, k, objective, inputs, a, b):\n",
    "    # Father tournament\n",
    "    contestants = random.sample(list(enumerate(population)), k)\n",
    "    i, father = min(contestants, \n",
    "                 key= lambda contestant: \n",
    "                     evaluate_objective(objective, \n",
    "                                        contestant[1], \n",
    "                                        inputs, a, b))\n",
    "    return i, father\n",
    "\n",
    "# para mostrar los valores objetivo (y) vs los # de generacion (x) en una grafica chida\n",
    "def display_generations(obj_func, generations_list, inputs, a, b):\n",
    "    N = len(generations_list[0]) # tamaño de cada poblacion\n",
    "    # crea lista de individuos, asignandoles su # de generacion\n",
    "    genealogy = [\n",
    "        (i, evaluate_objective(obj_func, specimen, inputs, a, b))\n",
    "        for i, gen in enumerate(generations)\n",
    "            for specimen in gen\n",
    "    ]\n",
    "    x, y = zip(*genealogy)\n",
    "    plt.scatter(x, y)\n",
    "    plt.show()\n",
    "    \n",
    "#OBJECTIVE FUNCTIONS\n",
    "def himmelblau(x, y):\n",
    "    return ((x**2)+y-11)**2+(x+(y**2)-7)**2\n",
    "def obj_fun_3(x):\n",
    "    return (x/10)**5-5*(x/10)**4+5*(x/10)**3+5*(x/10)**2-6*(x/10)-1"
   ]
  },
  {
   "cell_type": "markdown",
   "metadata": {},
   "source": [
    "# Functionality testing"
   ]
  },
  {
   "cell_type": "code",
   "execution_count": 131,
   "metadata": {},
   "outputs": [
    {
     "data": {
      "text/plain": [
       "-16.0"
      ]
     },
     "execution_count": 131,
     "metadata": {},
     "output_type": "execute_result"
    }
   ],
   "source": [
    "solution = [0, 0, 0, 0]\n",
    "a = -16\n",
    "b = 16\n",
    "decode_genes(a, b, solution)"
   ]
  },
  {
   "cell_type": "code",
   "execution_count": 132,
   "metadata": {},
   "outputs": [
    {
     "name": "stdout",
     "output_type": "stream",
     "text": [
      "genotipo = [1, 1, 1, 1, 1, 1, 0, 0, 1, 0, 0, 0, 0, 0, 1, 0, 1, 1, 0, 1]\n",
      "fenotipo = 5.836463772262356\n",
      "precision = 1.144410271082183e-05\n"
     ]
    }
   ],
   "source": [
    "s = gen_random_solution(20) # este es el genotipo\n",
    "print(f'genotipo = {s}')\n",
    "a = -6\n",
    "b = 6\n",
    "p = get_precision(a, b, s)\n",
    "v = decode_genes(a, b, s) # este es el fenotipo\n",
    "print(f'fenotipo = {v}')\n",
    "print(f'precision = {p}')"
   ]
  },
  {
   "cell_type": "code",
   "execution_count": 133,
   "metadata": {},
   "outputs": [
    {
     "name": "stdout",
     "output_type": "stream",
     "text": [
      "parent a: [0, 0, 0, 1, 1, 1, 0, 1, 0, 1]\n",
      "parent b: [1, 1, 0, 0, 0, 0, 0, 0, 1, 0]\n",
      "parent a genes: [0, 4, 5, 6, 7]\n",
      "parent b genes: [1, 2, 3, 8, 9]\n",
      "The baby: [0, 1, 0, 0, 1, 1, 0, 1, 1, 0]\n",
      "No mutation has occured\n"
     ]
    }
   ],
   "source": [
    "p_a = gen_random_solution(10)\n",
    "p_b = gen_random_solution(10)\n",
    "child = crossover_random(p_a, p_b)\n",
    "monster = mutate_child(child, 0.01)\n",
    "if child == monster:\n",
    "    print('No mutation has occured')\n",
    "else:\n",
    "    print('A mutation has occured!')\n",
    "    print(f'new baby: {monster}')"
   ]
  },
  {
   "cell_type": "code",
   "execution_count": 134,
   "metadata": {},
   "outputs": [
    {
     "data": {
      "text/plain": [
       "'hi'"
      ]
     },
     "execution_count": 134,
     "metadata": {},
     "output_type": "execute_result"
    }
   ],
   "source": [
    "max(['a', 'b', 'hi'], key= lambda item: len(item))"
   ]
  },
  {
   "cell_type": "code",
   "execution_count": 135,
   "metadata": {
    "scrolled": true
   },
   "outputs": [
    {
     "data": {
      "image/png": "[encoded data removed]",
      "text/plain": [
       "<Figure size 432x288 with 1 Axes>"
      ]
     },
     "metadata": {},
     "output_type": "display_data"
    }
   ],
   "source": [
    "# Testing population generation and final representation:\n",
    "# genetic algorithm parameters\n",
    "a = 0\n",
    "b = 10\n",
    "M = 100 # Population size\n",
    "N = 20 # Number of generations\n",
    "p_c = 0.5 # Probability of crossover (Top 10 anime...)\n",
    "p_m = 0.1 # Probability of mutation\n",
    "k = 3 # Number of tournament contestants\n",
    "l = 8 # Solution precision (Number of alleles per Chromosome)\n",
    "generations = [[gen_random_solution(l) \n",
    "                 for _ in range(M)] # specimens per generation\n",
    "                    for _ in range(N)] # generations]\n",
    "genealogy = [\n",
    "    (i, decode_genes(a, b, specimen))\n",
    "    for i, gen in enumerate(generations)\n",
    "        for specimen in gen\n",
    "]\n",
    "display_generations(a, b, genealogy)"
   ]
  },
  {
   "cell_type": "code",
   "execution_count": 136,
   "metadata": {
    "scrolled": false
   },
   "outputs": [
    {
     "data": {
      "text/plain": [
       "[(0, [1, 1, 0, 1, 0, 0, 0, 1]),\n",
       " (1, [0, 1, 0, 1, 0, 1, 0, 1]),\n",
       " (2, [1, 1, 0, 1, 1, 1, 1, 0]),\n",
       " (3, [1, 0, 0, 0, 0, 0, 0, 0]),\n",
       " (4, [0, 1, 1, 1, 0, 0, 0, 0]),\n",
       " (5, [0, 1, 0, 1, 1, 1, 0, 1]),\n",
       " (6, [0, 1, 0, 1, 1, 0, 1, 0]),\n",
       " (7, [0, 1, 0, 0, 1, 1, 1, 0]),\n",
       " (8, [1, 0, 0, 1, 0, 0, 1, 1]),\n",
       " (9, [0, 1, 1, 1, 0, 1, 0, 0]),\n",
       " (10, [1, 1, 0, 1, 1, 0, 1, 1]),\n",
       " (11, [0, 1, 1, 0, 1, 1, 1, 0]),\n",
       " (12, [0, 0, 0, 1, 0, 1, 1, 0]),\n",
       " (13, [1, 0, 0, 0, 0, 1, 1, 0]),\n",
       " (14, [1, 1, 1, 1, 0, 0, 1, 0]),\n",
       " (15, [1, 0, 1, 0, 1, 0, 1, 1]),\n",
       " (16, [0, 1, 1, 0, 1, 0, 0, 0]),\n",
       " (17, [1, 0, 1, 1, 1, 0, 0, 0]),\n",
       " (18, [1, 1, 1, 0, 0, 0, 1, 0]),\n",
       " (19, [1, 0, 1, 1, 1, 0, 0, 1])]"
      ]
     },
     "execution_count": 136,
     "metadata": {},
     "output_type": "execute_result"
    }
   ],
   "source": [
    "popu = [gen_random_solution(l) for _ in range(N)]\n",
    "list(enumerate(popu))"
   ]
  },
  {
   "cell_type": "code",
   "execution_count": 143,
   "metadata": {},
   "outputs": [
    {
     "name": "stdout",
     "output_type": "stream",
     "text": [
      "olde pop: \n",
      "[[1, 1, 0, 1, 0, 0, 0, 1],\n",
      " [0, 1, 0, 1, 0, 1, 0, 1],\n",
      " [1, 1, 0, 1, 1, 1, 1, 0],\n",
      " [1, 0, 0, 0, 0, 0, 0, 0],\n",
      " [0, 1, 0, 1, 1, 0, 1, 0],\n",
      " [0, 1, 0, 0, 1, 1, 1, 0],\n",
      " [1, 0, 0, 1, 0, 0, 1, 1],\n",
      " [0, 1, 1, 1, 0, 1, 0, 0],\n",
      " [1, 1, 0, 1, 1, 0, 1, 1],\n",
      " [0, 1, 1, 0, 1, 1, 1, 0],\n",
      " [0, 0, 0, 1, 0, 1, 1, 0],\n",
      " [1, 1, 1, 1, 0, 0, 1, 0],\n",
      " [0, 1, 1, 0, 1, 0, 0, 0],\n",
      " [1, 0, 1, 1, 1, 0, 0, 0],\n",
      " [1, 1, 1, 0, 0, 0, 1, 0],\n",
      " [1, 0, 1, 1, 1, 0, 0, 1],\n",
      " [0, 1, 0, 1, 1, 1, 0, 1],\n",
      " [1, 0, 0, 0, 0, 1, 1, 0],\n",
      " [1, 0, 1, 0, 1, 0, 1, 1],\n",
      " [0, 1, 1, 1, 0, 0, 0, 0]]\n",
      "parent a index: 6\n",
      "parent b index: 8\n",
      "parent a: [1, 0, 0, 1, 0, 0, 1, 1]\n",
      "parent b: [0, 1, 1, 0, 1, 1, 1, 0]\n",
      "parent a genes: [2, 3, 4, 5]\n",
      "parent b genes: [0, 1, 6, 7]\n",
      "The baby: [0, 1, 0, 1, 0, 0, 1, 0]\n",
      "new pop: \n",
      "[[1, 1, 0, 1, 0, 0, 0, 1],\n",
      " [0, 1, 0, 1, 0, 1, 0, 1],\n",
      " [1, 1, 0, 1, 1, 1, 1, 0],\n",
      " [1, 0, 0, 0, 0, 0, 0, 0],\n",
      " [0, 1, 0, 1, 1, 0, 1, 0],\n",
      " [0, 1, 0, 0, 1, 1, 1, 0],\n",
      " [1, 0, 0, 1, 0, 0, 1, 1],\n",
      " [0, 1, 1, 1, 0, 1, 0, 0],\n",
      " [1, 1, 0, 1, 1, 0, 1, 1],\n",
      " [0, 1, 1, 0, 1, 1, 1, 0],\n",
      " [0, 0, 0, 1, 0, 1, 1, 0],\n",
      " [1, 1, 1, 1, 0, 0, 1, 0],\n",
      " [0, 1, 1, 0, 1, 0, 0, 0],\n",
      " [1, 0, 1, 1, 1, 0, 0, 0],\n",
      " [1, 1, 1, 0, 0, 0, 1, 0],\n",
      " [1, 0, 1, 1, 1, 0, 0, 1],\n",
      " [0, 1, 0, 1, 1, 1, 0, 1],\n",
      " [1, 0, 0, 0, 0, 1, 1, 0],\n",
      " [1, 0, 1, 0, 1, 0, 1, 1],\n",
      " [0, 1, 1, 1, 0, 0, 0, 0]]\n"
     ]
    }
   ],
   "source": [
    "print('olde pop: ')\n",
    "pprint(popu)\n",
    "i, fath = selection(popu, k, obj_fun_3, 1, a, b)\n",
    "print(f'parent a index: {i}')\n",
    "popu.pop(i)\n",
    "j, moth = selection(popu, k, obj_fun_3, 1, a, b)\n",
    "print(f'parent b index: {j}')\n",
    "popu.insert(i, fath)\n",
    "child = crossover_random(fath, moth)\n",
    "monster = mutate_child(child, 0.05)\n",
    "print('new pop: ')\n",
    "pprint(popu)"
   ]
  },
  {
   "cell_type": "code",
   "execution_count": 97,
   "metadata": {},
   "outputs": [
    {
     "name": "stdout",
     "output_type": "stream",
     "text": [
      "solution precision: 0.0392156862745098\n",
      "father: 4.784313725490196 => -2.4154502784660243\n",
      "mother: 2.4705882352941178 => -2.1194704422205897\n",
      "child: 9.042033235581624 => -1.3787991414736567\n",
      "monst: 9.042033235581624 => -1.3787991414736567\n"
     ]
    }
   ],
   "source": [
    "father_feno = decode_genes(a, b, fath)\n",
    "mother_feno = decode_genes(a, b, moth)\n",
    "child_feno = decode_genes(a, b, child)\n",
    "monster_feno = decode_genes(a, b, monster)\n",
    "print(f'solution precision: {get_precision(a, b, fath)}')\n",
    "print(f'father: {father_feno} => {obj_fun_3(father_feno)}')\n",
    "print(f'mother: {mother_feno} => {obj_fun_3(mother_feno)}')\n",
    "print(f'child: {child_feno} => {obj_fun_3(child_feno)}')\n",
    "print(f'monst: {monster_feno} => {obj_fun_3(monster_feno)}')"
   ]
  },
  {
   "cell_type": "code",
   "execution_count": 36,
   "metadata": {},
   "outputs": [
    {
     "data": {
      "text/plain": [
       "[0, 10]"
      ]
     },
     "execution_count": 36,
     "metadata": {},
     "output_type": "execute_result"
    }
   ],
   "source": [
    "list(range(0, 20, 10))"
   ]
  },
  {
   "cell_type": "code",
   "execution_count": 37,
   "metadata": {},
   "outputs": [
    {
     "data": {
      "text/plain": [
       "'hola mundo'"
      ]
     },
     "execution_count": 37,
     "metadata": {},
     "output_type": "execute_result"
    }
   ],
   "source": [
    "'hola mundo 1234567890'[0:10]\n",
    "# 'hola mundo 1234567890'[10:20]"
   ]
  },
  {
   "cell_type": "code",
   "execution_count": 38,
   "metadata": {},
   "outputs": [
    {
     "data": {
      "text/plain": [
       "890.0"
      ]
     },
     "execution_count": 38,
     "metadata": {},
     "output_type": "execute_result"
    }
   ],
   "source": [
    "# probando nuestro código para el caso de 2 inputs (himmelblau function)\n",
    "x, y = split_chromosome(popu[6], 2)\n",
    "a = -6\n",
    "b = 6\n",
    "himmelblau(\n",
    "    decode_genes(a, b, x),\n",
    "    decode_genes(a, b, y)\n",
    ")"
   ]
  },
  {
   "cell_type": "code",
   "execution_count": 39,
   "metadata": {},
   "outputs": [
    {
     "name": "stdout",
     "output_type": "stream",
     "text": [
      "two points: [3, 6]\n",
      "parent a: [1, 0, 1, 0, 0, 1, 0, 1]\n",
      "parent b: [1, 1, 0, 1, 1, 1, 0, 0]\n",
      "baby 1:   [1, 0, 1, 1, 1, 1, 0, 1]\n",
      "baby 2:   [1, 1, 0, 0, 0, 1, 0, 0]\n"
     ]
    },
    {
     "data": {
      "text/plain": [
       "([1, 0, 1, 1, 1, 1, 0, 1], [1, 1, 0, 0, 0, 1, 0, 0])"
      ]
     },
     "execution_count": 39,
     "metadata": {},
     "output_type": "execute_result"
    }
   ],
   "source": [
    "crossover_two_points(popu[2], popu[4], 0.8)"
   ]
  },
  {
   "cell_type": "code",
   "execution_count": 45,
   "metadata": {},
   "outputs": [],
   "source": [
    "s = gen_random_solution(20)\n",
    "r = [0, 0, 0, 0, 0, 0, 0, 0]"
   ]
  },
  {
   "cell_type": "code",
   "execution_count": 46,
   "metadata": {},
   "outputs": [
    {
     "data": {
      "text/plain": [
       "[1, 1, 0, 0, 0, 1, 1, 0, 0, 0, 1, 0, 1, 0, 1, 1, 0, 0, 1, 1]"
      ]
     },
     "execution_count": 46,
     "metadata": {},
     "output_type": "execute_result"
    }
   ],
   "source": [
    "s"
   ]
  },
  {
   "cell_type": "code",
   "execution_count": 47,
   "metadata": {},
   "outputs": [
    {
     "data": {
      "text/plain": [
       "-6.0"
      ]
     },
     "execution_count": 47,
     "metadata": {},
     "output_type": "execute_result"
    }
   ],
   "source": [
    "decode_genes(-6, 6, r)"
   ]
  },
  {
   "cell_type": "code",
   "execution_count": 48,
   "metadata": {},
   "outputs": [],
   "source": [
    "x, y = [decode_genes(-6, 6, gen) for gen in split_chromosome(s, 2)]"
   ]
  },
  {
   "cell_type": "code",
   "execution_count": 49,
   "metadata": {},
   "outputs": [
    {
     "data": {
      "text/plain": [
       "4.255651972952148"
      ]
     },
     "execution_count": 49,
     "metadata": {},
     "output_type": "execute_result"
    }
   ],
   "source": [
    "himmelblau(x, y)"
   ]
  },
  {
   "cell_type": "code",
   "execution_count": 50,
   "metadata": {},
   "outputs": [
    {
     "data": {
      "text/plain": [
       "([1, 1, 0, 0, 0, 1], [1, 0, 0, 0, 1, 0], [1, 0, 1, 1, 0, 0], [1, 1])"
      ]
     },
     "execution_count": 50,
     "metadata": {},
     "output_type": "execute_result"
    }
   ],
   "source": [
    "split_chromosome(s, 3)"
   ]
  },
  {
   "cell_type": "code",
   "execution_count": 51,
   "metadata": {},
   "outputs": [
    {
     "name": "stdout",
     "output_type": "stream",
     "text": [
      "parent a: [1, 1, 1, 0, 0, 0, 1, 0]\n",
      "parent b: [1, 1, 1, 0, 1, 1, 0, 1]\n",
      "parent a genes: [0, 2, 3, 7]\n",
      "parent b genes: [1, 4, 5, 6]\n",
      "The baby: [1, 1, 1, 0, 1, 1, 0, 0]\n"
     ]
    },
    {
     "data": {
      "text/plain": [
       "[1, 1, 1, 0, 1, 1, 0, 0]"
      ]
     },
     "execution_count": 51,
     "metadata": {},
     "output_type": "execute_result"
    }
   ],
   "source": [
    "crossover_random(popu[0], popu[1])"
   ]
  },
  {
   "cell_type": "code",
   "execution_count": 52,
   "metadata": {},
   "outputs": [
    {
     "name": "stdout",
     "output_type": "stream",
     "text": [
      "two points: [0, 7]\n",
      "parent a: [1, 1, 1, 0, 0, 0, 1, 0]\n",
      "parent b: [1, 1, 1, 0, 1, 1, 0, 1]\n",
      "baby 1:   [1, 1, 1, 0, 1, 1, 0, 0]\n",
      "baby 2:   [1, 1, 1, 0, 0, 0, 1, 1]\n"
     ]
    }
   ],
   "source": [
    "ch_1, ch_2 = crossover_two_points(popu[0], popu[1])"
   ]
  },
  {
   "cell_type": "code",
   "execution_count": 53,
   "metadata": {},
   "outputs": [
    {
     "data": {
      "text/plain": [
       "[1, 1, 1, 0, 1, 1, 0, 0]"
      ]
     },
     "execution_count": 53,
     "metadata": {},
     "output_type": "execute_result"
    }
   ],
   "source": [
    "mutate_child(ch_1, 0.01)"
   ]
  },
  {
   "cell_type": "code",
   "execution_count": 64,
   "metadata": {},
   "outputs": [
    {
     "data": {
      "text/plain": [
       "270.4289618721537"
      ]
     },
     "execution_count": 64,
     "metadata": {},
     "output_type": "execute_result"
    }
   ],
   "source": [
    "evaluate_objective(himmelblau, popu[3], inputs, a, b)"
   ]
  },
  {
   "cell_type": "code",
   "execution_count": 87,
   "metadata": {},
   "outputs": [
    {
     "data": {
      "text/plain": [
       "(1,\n",
       " [0,\n",
       "  0,\n",
       "  1,\n",
       "  1,\n",
       "  1,\n",
       "  0,\n",
       "  0,\n",
       "  1,\n",
       "  1,\n",
       "  1,\n",
       "  1,\n",
       "  0,\n",
       "  1,\n",
       "  1,\n",
       "  1,\n",
       "  0,\n",
       "  0,\n",
       "  0,\n",
       "  1,\n",
       "  0,\n",
       "  1,\n",
       "  1,\n",
       "  1,\n",
       "  0,\n",
       "  0,\n",
       "  1])"
      ]
     },
     "execution_count": 87,
     "metadata": {},
     "output_type": "execute_result"
    }
   ],
   "source": [
    "selection(popu, 15, himmelblau, 2, -6, 6)"
   ]
  },
  {
   "cell_type": "code",
   "execution_count": 190,
   "metadata": {},
   "outputs": [
    {
     "data": {
      "text/plain": [
       "[0.9286255508122876,\n",
       " -2.220172197514093,\n",
       " 0.09951486613795701,\n",
       " -0.332868505086406,\n",
       " 0.3886904342691242,\n",
       " -1.8662655929864886,\n",
       " -4.2370598612262995,\n",
       " -2.7968194055297886,\n",
       " -1.6363220844859971,\n",
       " -0.3340600052137752,\n",
       " -1.454428873076683,\n",
       " -3.1814664197275064,\n",
       " 1.8089529870884045,\n",
       " -0.0841252131600898,\n",
       " -1.3607659550226554,\n",
       " 1.0877652667373114,\n",
       " 0.40146917445797037,\n",
       " -3.676104053202833,\n",
       " -4.495467159683585,\n",
       " -4.399575311463039,\n",
       " -2.416732511254173,\n",
       " -0.2828394422392728,\n",
       " -0.5247313609815576,\n",
       " -1.2884366422082603,\n",
       " -0.5077692241148011,\n",
       " -1.9014629654891044,\n",
       " 2.0081957869443343,\n",
       " -1.7403555901275407,\n",
       " -3.8478599682734203,\n",
       " -3.82234556922446,\n",
       " 0.2516782311619572,\n",
       " 0.36163497267336275,\n",
       " -2.487095382944972,\n",
       " -4.56590319611081,\n",
       " -0.37630134227062595,\n",
       " -4.211065402338669,\n",
       " -0.771270190214322,\n",
       " 2.601815501480814,\n",
       " -2.1573516388785396,\n",
       " -1.9196081667473694,\n",
       " -1.0458311823034026,\n",
       " -1.727589140011717,\n",
       " -0.1915082495781455,\n",
       " -1.1766243411247288,\n",
       " -1.4382151621034733,\n",
       " 0.4177644667436642,\n",
       " -1.6865648192035758,\n",
       " -3.9531513522095736,\n",
       " 2.613258764603346,\n",
       " -2.854249888715966,\n",
       " -0.6957522712581048,\n",
       " -1.4268937440017568,\n",
       " -2.7866499843890224,\n",
       " -1.8960748831132201,\n",
       " 0.41324699713417345,\n",
       " -3.999330742997408,\n",
       " 0.4126516392346389,\n",
       " -1.3818468102872181,\n",
       " -1.5870564553670903,\n",
       " -2.6028748826145858,\n",
       " 2.16900710817885,\n",
       " 0.02873881418150681,\n",
       " 0.8885757100155329,\n",
       " -2.237199204116653,\n",
       " -2.2323110938966217,\n",
       " 0.2938364641536939,\n",
       " -1.892723433761624,\n",
       " -4.135022357798029,\n",
       " 0.17499084170475854,\n",
       " -0.7641504389312425,\n",
       " -0.5816785480060712,\n",
       " 0.6099251689727925,\n",
       " 2.320098349092391,\n",
       " 0.41722453389684055,\n",
       " -3.92835455564191,\n",
       " 0.3662020396667689,\n",
       " -3.5048789603784485,\n",
       " 0.10230231123684042,\n",
       " 2.478242927864888,\n",
       " 1.576254411871508]"
      ]
     },
     "execution_count": 190,
     "metadata": {},
     "output_type": "execute_result"
    }
   ],
   "source": [
    "objectives = [evaluate_objective(obj_fun_3, chrom, 1, -10, 30) for chrom in popu]\n",
    "objectives"
   ]
  },
  {
   "attachments": {
    "obj_fun_3.png": {
     "image/png": "[encoded data removed]"
    }
   },
   "cell_type": "markdown",
   "metadata": {},
   "source": [
    "## Problema a resolver:\n",
    "![obj_fun_3.png](attachment:obj_fun_3.png)"
   ]
  },
  {
   "cell_type": "code",
   "execution_count": 282,
   "metadata": {},
   "outputs": [
    {
     "name": "stdout",
     "output_type": "stream",
     "text": [
      "best for first generation is: [0, 1, 0, 1, 1, 0, 1, 1, 1, 0, 0, 1, 0, 1, 0, 1, 0, 0, 1, 1, 0, 0, 0, 0, 0, 1, 0, 0, 1, 0, 0, 1, 1, 1, 1, 1, 1, 1, 1, 1, 0, 1, 1, 0, 0, 0, 0, 0, 0, 1, 1, 0, 0, 0, 1, 0, 1, 0, 0, 0]\n",
      "value = -2.4145368103326152\n",
      "Generation #1:\n",
      "Generation #2:\n",
      "Generation #3:\n",
      "Generation #4:\n",
      "Generation #5:\n",
      "Generation #6:\n",
      "Generation #7:\n",
      "Generation #8:\n",
      "Generation #9:\n",
      "Generation #10:\n",
      "Generation #11:\n",
      "Generation #12:\n",
      "Generation #13:\n",
      "Generation #14:\n",
      "Generation #15:\n",
      "Generation #16:\n",
      "Generation #17:\n",
      "Generation #18:\n",
      "Generation #19:\n",
      "Generation #20:\n",
      "best for last generation is: [1, 1, 0, 1, 1, 1, 1, 1, 0, 1, 1, 0, 1, 1, 1, 0, 1, 1, 0, 1, 1, 1, 0, 1, 0, 1, 1, 1, 0, 1, 0, 0, 0, 0, 0, 1, 1, 0, 1, 1, 0, 1, 1, 1, 1, 1, 0, 1, 1, 0, 0, 0, 1, 1, 0, 0, 0, 0, 0, 0]\n",
      "value = -4.24107047203019\n",
      "solution values: [24.911416658269097]\n"
     ]
    },
    {
     "data": {
      "image/png": "[encoded data removed]",
      "text/plain": [
       "<Figure size 432x288 with 1 Axes>"
      ]
     },
     "metadata": {},
     "output_type": "display_data"
    }
   ],
   "source": [
    "# THE REAL DEAL:\n",
    "# genetic algorithm parameters\n",
    "M = 20 # Population size\n",
    "N = 20 # Number of generations\n",
    "p_c = 0.95 # Probability of crossover (Top 10 anime...)\n",
    "p_m = 0.005 # Probability of mutation\n",
    "k = 3 # Number of tournament contestants\n",
    "l = 60 # Solution precision (Number of alleles per Chromosome)\n",
    "\n",
    "# problem specific parameters:\n",
    "a = -10 # minimum value for solution space\n",
    "b = 30  # maximum value for solution space\n",
    "inputs = 1 # number of inputs for this problem\n",
    "objective = obj_fun_3\n",
    "\n",
    "# Create initial population\n",
    "popu = [gen_random_solution(l) for _ in range(M)]\n",
    "# track del mejor por generacion\n",
    "best_for_gen_x = [min(popu, key=lambda chrom: evaluate_objective(objective, \n",
    "                                                                 chrom, \n",
    "                                                                 inputs, a, b))]\n",
    "print(f'best for first generation is: {best_for_gen_x[-1]}')\n",
    "print(f'value = {evaluate_objective(objective, best_for_gen_x[-1], inputs, a, b)}')\n",
    "# itera algoritmo por cada una de las generaciones\n",
    "current_popu = popu\n",
    "generations = []\n",
    "for n in range(N):\n",
    "    print(f'Generation #{n+1}:')\n",
    "    # evalúa a esta generacion\n",
    "    generations.append(current_popu)\n",
    "    # crea siguiente generacion\n",
    "    children = []\n",
    "    for m in range(M//2):\n",
    "        i, fath = selection(current_popu, k, objective, inputs, a, b)\n",
    "        current_popu.pop(i)\n",
    "        j, moth = selection(current_popu, k, objective, inputs, a, b)\n",
    "        current_popu.insert(i, fath)\n",
    "        ch_1, ch_2 = crossover_two_points(fath, moth, p_c)\n",
    "        ch_1 = mutate_child(ch_1, p_m)\n",
    "        ch_2 = mutate_child(ch_2, p_m)\n",
    "        children.extend([ch_1, ch_2])\n",
    "        # agrega el mejor hijo a la lista de mejores:\n",
    "        best_child = min(children, \n",
    "                         key=lambda chrom: evaluate_objective(objective,\n",
    "                                                          chrom,\n",
    "                                                          inputs, a, b))\n",
    "        best_for_gen_x.append(best_child)\n",
    "    current_popu = children # avanza de generacion y repite\n",
    "print(f'best for last generation is: {best_for_gen_x[-1]}')\n",
    "print(f'value = {evaluate_objective(objective, best_for_gen_x[-1], inputs, a, b)}')\n",
    "solution_chroms = split_chromosome(best_for_gen_x[-1], inputs)\n",
    "solution_values = [decode_genes(a, b, chrom) for chrom in solution_chroms]\n",
    "print(f'solution values: {solution_values}')\n",
    "display_generations(objective, generations, inputs, a, b) "
   ]
  },
  {
   "cell_type": "code",
   "execution_count": null,
   "metadata": {},
   "outputs": [],
   "source": []
  }
 ],
 "metadata": {
  "kernelspec": {
   "display_name": "Python 3",
   "language": "python",
   "name": "python3"
  },
  "language_info": {
   "codemirror_mode": {
    "name": "ipython",
    "version": 3
   },
   "file_extension": ".py",
   "mimetype": "text/x-python",
   "name": "python",
   "nbconvert_exporter": "python",
   "pygments_lexer": "ipython3",
   "version": "3.6.5"
  }
 },
 "nbformat": 4,
 "nbformat_minor": 2
}
